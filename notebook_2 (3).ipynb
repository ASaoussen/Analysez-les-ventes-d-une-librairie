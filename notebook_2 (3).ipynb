{
 "cells": [
  {
   "cell_type": "markdown",
   "id": "5ec796e2",
   "metadata": {},
   "source": [
    "<div style=\"float:left;\"><img src=\"files/logo.png\" alt=\"alt text\" title=\"image Title\" width=\"250\"/></div>"
   ]
  },
  {
   "cell_type": "markdown",
   "id": "60776788",
   "metadata": {},
   "source": [
    "\n",
    "# <center>Analysez les ventes d'une librairie avec R ou Python</center>"
   ]
  },
  {
   "cell_type": "markdown",
   "id": "58923dbc",
   "metadata": {},
   "source": [
    "# Sommaire :\n",
    "\n",
    "**Partie 6: Analyse des corrélations**\n",
    "- <a href=\"#C11\">1.Le lien entre le genre d’un client et les catégories des livres achetés</a>\n",
    "- <a href=\"#C12\">2.Analyse de la corrélation entre le montant total et l'âge</a>\n",
    "- <a href=\"#C13\">3.Analyse de la corrélation entre les catégories des livres et l'âge</a>\n",
    "- <a href=\"#C14\">4.Le lien entre l’âge des clients et la taille du panier moyen</a>\n",
    "- <a href=\"#C15\">5.Le lien entre l’âge des clients et la fréquence d'achat</a>\n"
   ]
  },
  {
   "cell_type": "code",
   "execution_count": 80,
   "id": "6393777d",
   "metadata": {},
   "outputs": [],
   "source": [
    "# Import des librairies.\n",
    "import pandas as pd\n",
    "import matplotlib as plt\n",
    "import matplotlib.pyplot as plt\n",
    "import matplotlib.lines as mlines\n",
    "import seaborn as sns\n",
    "import numpy as np\n",
    "import plotly.express as px\n",
    "import plotly.graph_objects as go\n",
    "import re\n",
    "import scipy.stats as st\n",
    "from scipy.stats import shapiro\n",
    "import statsmodels.api as sm\n",
    "import datetime"
   ]
  },
  {
   "cell_type": "code",
   "execution_count": 81,
   "id": "09cf04c6",
   "metadata": {},
   "outputs": [
    {
     "data": {
      "text/html": [
       "<div>\n",
       "<style scoped>\n",
       "    .dataframe tbody tr th:only-of-type {\n",
       "        vertical-align: middle;\n",
       "    }\n",
       "\n",
       "    .dataframe tbody tr th {\n",
       "        vertical-align: top;\n",
       "    }\n",
       "\n",
       "    .dataframe thead th {\n",
       "        text-align: right;\n",
       "    }\n",
       "</style>\n",
       "<table border=\"1\" class=\"dataframe\">\n",
       "  <thead>\n",
       "    <tr style=\"text-align: right;\">\n",
       "      <th></th>\n",
       "      <th>client_id</th>\n",
       "      <th>sex</th>\n",
       "      <th>birth</th>\n",
       "      <th>id_prod</th>\n",
       "      <th>date</th>\n",
       "      <th>session_id</th>\n",
       "      <th>price</th>\n",
       "      <th>categ</th>\n",
       "      <th>Year</th>\n",
       "      <th>month</th>\n",
       "      <th>day</th>\n",
       "      <th>age</th>\n",
       "    </tr>\n",
       "  </thead>\n",
       "  <tbody>\n",
       "    <tr>\n",
       "      <th>0</th>\n",
       "      <td>c_4410</td>\n",
       "      <td>f</td>\n",
       "      <td>1967-01-01</td>\n",
       "      <td>0_1316</td>\n",
       "      <td>2021-12-29</td>\n",
       "      <td>s_141762</td>\n",
       "      <td>7.2</td>\n",
       "      <td>0</td>\n",
       "      <td>2021</td>\n",
       "      <td>12</td>\n",
       "      <td>29</td>\n",
       "      <td>55</td>\n",
       "    </tr>\n",
       "    <tr>\n",
       "      <th>1</th>\n",
       "      <td>c_4410</td>\n",
       "      <td>f</td>\n",
       "      <td>1967-01-01</td>\n",
       "      <td>0_1316</td>\n",
       "      <td>2022-03-29</td>\n",
       "      <td>s_186233</td>\n",
       "      <td>7.2</td>\n",
       "      <td>0</td>\n",
       "      <td>2022</td>\n",
       "      <td>3</td>\n",
       "      <td>29</td>\n",
       "      <td>55</td>\n",
       "    </tr>\n",
       "    <tr>\n",
       "      <th>2</th>\n",
       "      <td>c_4410</td>\n",
       "      <td>f</td>\n",
       "      <td>1967-01-01</td>\n",
       "      <td>0_1316</td>\n",
       "      <td>2022-05-29</td>\n",
       "      <td>s_215758</td>\n",
       "      <td>7.2</td>\n",
       "      <td>0</td>\n",
       "      <td>2022</td>\n",
       "      <td>5</td>\n",
       "      <td>29</td>\n",
       "      <td>55</td>\n",
       "    </tr>\n",
       "    <tr>\n",
       "      <th>3</th>\n",
       "      <td>c_3654</td>\n",
       "      <td>f</td>\n",
       "      <td>1978-01-01</td>\n",
       "      <td>0_1316</td>\n",
       "      <td>2021-11-26</td>\n",
       "      <td>s_125143</td>\n",
       "      <td>7.2</td>\n",
       "      <td>0</td>\n",
       "      <td>2021</td>\n",
       "      <td>11</td>\n",
       "      <td>26</td>\n",
       "      <td>44</td>\n",
       "    </tr>\n",
       "    <tr>\n",
       "      <th>4</th>\n",
       "      <td>c_3654</td>\n",
       "      <td>f</td>\n",
       "      <td>1978-01-01</td>\n",
       "      <td>0_1316</td>\n",
       "      <td>2022-08-26</td>\n",
       "      <td>s_258546</td>\n",
       "      <td>7.2</td>\n",
       "      <td>0</td>\n",
       "      <td>2022</td>\n",
       "      <td>8</td>\n",
       "      <td>26</td>\n",
       "      <td>44</td>\n",
       "    </tr>\n",
       "  </tbody>\n",
       "</table>\n",
       "</div>"
      ],
      "text/plain": [
       "  client_id sex       birth id_prod        date session_id  price  categ  \\\n",
       "0    c_4410   f  1967-01-01  0_1316  2021-12-29   s_141762    7.2      0   \n",
       "1    c_4410   f  1967-01-01  0_1316  2022-03-29   s_186233    7.2      0   \n",
       "2    c_4410   f  1967-01-01  0_1316  2022-05-29   s_215758    7.2      0   \n",
       "3    c_3654   f  1978-01-01  0_1316  2021-11-26   s_125143    7.2      0   \n",
       "4    c_3654   f  1978-01-01  0_1316  2022-08-26   s_258546    7.2      0   \n",
       "\n",
       "   Year  month  day  age  \n",
       "0  2021     12   29   55  \n",
       "1  2022      3   29   55  \n",
       "2  2022      5   29   55  \n",
       "3  2021     11   26   44  \n",
       "4  2022      8   26   44  "
      ]
     },
     "execution_count": 81,
     "metadata": {},
     "output_type": "execute_result"
    }
   ],
   "source": [
    "# Chargement des données\n",
    "df_B_to_C = pd.read_csv(\"df_B_to_C.csv\")\n",
    "df_B_to_C.head()"
   ]
  },
  {
   "cell_type": "markdown",
   "id": "7c731533",
   "metadata": {},
   "source": [
    "## Partie 6: Analyse des corrélations\n",
    "## <a name=\"C11\">1.Le lien entre le genre d’un client et les catégories des livres achetés</a>"
   ]
  },
  {
   "cell_type": "markdown",
   "id": "e3d7bce0",
   "metadata": {},
   "source": [
    "Question : Est-ce qu’il y a une relation entre les catégories des livres et le genre d’un client?<br>\n",
    "Variable expliquée : les catégories des livres<br>\n",
    "Variable explicative : le genre<br>\n",
    "Le genre d'un client et la catégorie des produits sont deux variables qualitatives. On va analyser ces deux variables avec le test khi-deux d'indépendance.\n",
    "Le test d’indépendance du chi carré est un test non paramétrique. En d’autres termes, l’hypothèse de normalité n’est pas nécessaire pour effectuer le test.\n",
    "\n",
    "L'idée de base de ce test est de comparer les valeurs observées dans les données aux valeurs attendues si l'hypothèse nulle est vraie. Le test statistique implique de trouver la différence au carré entre les valeurs de données observées et attendues, et de diviser cette différence par les valeurs de données attendues. On fait après la somme de ces valeurs, c'est la statistique de test.\n",
    "\n",
    "Ensuite, on compare la statistique de test à la valeur théorique à partir de la distribution khi-deux. La valeur théorique dépend à la fois de la valeur alpha et des degrés de liberté des données."
   ]
  },
  {
   "cell_type": "code",
   "execution_count": 82,
   "id": "08551ebe",
   "metadata": {},
   "outputs": [
    {
     "data": {
      "text/html": [
       "<div>\n",
       "<style scoped>\n",
       "    .dataframe tbody tr th:only-of-type {\n",
       "        vertical-align: middle;\n",
       "    }\n",
       "\n",
       "    .dataframe tbody tr th {\n",
       "        vertical-align: top;\n",
       "    }\n",
       "\n",
       "    .dataframe thead th {\n",
       "        text-align: right;\n",
       "    }\n",
       "</style>\n",
       "<table border=\"1\" class=\"dataframe\">\n",
       "  <thead>\n",
       "    <tr style=\"text-align: right;\">\n",
       "      <th>categ</th>\n",
       "      <th>0</th>\n",
       "      <th>1</th>\n",
       "      <th>2</th>\n",
       "    </tr>\n",
       "    <tr>\n",
       "      <th>sex</th>\n",
       "      <th></th>\n",
       "      <th></th>\n",
       "      <th></th>\n",
       "    </tr>\n",
       "  </thead>\n",
       "  <tbody>\n",
       "    <tr>\n",
       "      <th>f</th>\n",
       "      <td>206220</td>\n",
       "      <td>114899</td>\n",
       "      <td>17283</td>\n",
       "    </tr>\n",
       "    <tr>\n",
       "      <th>m</th>\n",
       "      <td>209281</td>\n",
       "      <td>112188</td>\n",
       "      <td>19200</td>\n",
       "    </tr>\n",
       "  </tbody>\n",
       "</table>\n",
       "</div>"
      ],
      "text/plain": [
       "categ       0       1      2\n",
       "sex                         \n",
       "f      206220  114899  17283\n",
       "m      209281  112188  19200"
      ]
     },
     "execution_count": 82,
     "metadata": {},
     "output_type": "execute_result"
    }
   ],
   "source": [
    "# Créer un  TCD: Données observées\n",
    "df_count = pd.crosstab(df_B_to_C.sex, df_B_to_C.categ)\n",
    "df_count"
   ]
  },
  {
   "cell_type": "markdown",
   "id": "6740653b",
   "metadata": {},
   "source": [
    "On pose les hypothèses de départ :\n",
    "\n",
    "H0 : Variables indépendantes si p-value > 5%<br>\n",
    "H1 : Variables non indépendantes si p-value < 5%<br>"
   ]
  },
  {
   "cell_type": "markdown",
   "id": "397ca40a",
   "metadata": {},
   "source": [
    "#### 1.Trouver la valeur critique en trois étapes.\n",
    "\n",
    "1- Trouver le degré de liberté: il faut trouver les valeurs dépendantes dans les lignes et colonnes du tableau. Pour les lignes il y a 2-1 = 1 variable indépendante, et pour les colonnes il y a 3-1 = 2 variables indépendantes. Ce qui conduit à 2 x 1 = 2 degrés de liberté.<br>\n",
    "\n",
    "2- Choisir le risque de se tromper : On choisit un seuil de 5 %. C'est le seuil de rejeter à tort l'hypothèse nulle.<br>\n",
    "3- Trouver la valeur critique dans la table de distribution du Khi2.\n"
   ]
  },
  {
   "cell_type": "markdown",
   "id": "f4dc2c1d",
   "metadata": {},
   "source": [
    "<div style=\"float:left;\"><img src=\"files/tableauKhi2.png\" alt=\"alt text\" title=\"image Title\" width=\"500\"/></div>"
   ]
  },
  {
   "cell_type": "markdown",
   "id": "cd47e273",
   "metadata": {},
   "source": [
    "#### 2.Calcul de Khi-deux"
   ]
  },
  {
   "cell_type": "code",
   "execution_count": 83,
   "id": "d270dd8e",
   "metadata": {},
   "outputs": [
    {
     "name": "stdout",
     "output_type": "stream",
     "text": [
      "Le Khi_2 calculé est: 148.0770961500028 \n",
      " Le p_value est 7.005951441770124e-33 2 \n",
      " Les effectifs théoriques sont:\n",
      " [[207056.94898177 113164.44815638  18180.60286185]\n",
      " [208444.05101823 113922.55184362  18302.39713815]]\n"
     ]
    }
   ],
   "source": [
    "\n",
    "from scipy.stats import chi2_contingency\n",
    "Khi2_obs, p_value, ddl, effectif_theorique = chi2_contingency(df_count)\n",
    "print(\"Le Khi_2 calculé est:\", Khi2_obs, \"\\n Le p_value est\", p_value, ddl,\"\\n Les effectifs théoriques sont:\\n\", effectif_theorique)"
   ]
  },
  {
   "cell_type": "markdown",
   "id": "64ba1fae",
   "metadata": {},
   "source": [
    "On déduit : le Khi-deux calculé ˃> Khi-deux critique. La p-valeur est bien inférieur à 5%. On peut donc rejeter l’hypothèse selon laquelle les deux variables testées sont indépendantes avec un risque de 0.05.<br>\n",
    "Donc on accepte l'hypothèse alternative (H1), qu'il existe un lien entre le genre d’un client et les catégories des livres achetés et on refuse l'hypothèse nulle (H0).\n"
   ]
  },
  {
   "cell_type": "markdown",
   "id": "855bf1a6",
   "metadata": {},
   "source": [
    " <div class=\"alert alert-block alert-info\">\n",
    "    <b>Le genre d'un client et la catégorie de produit sont deux variables non indépendantes avec un intervalle de confiance egal à 5%       \n",
    "     </b>\n",
    "</div> \n"
   ]
  },
  {
   "cell_type": "markdown",
   "id": "820ea47c",
   "metadata": {},
   "source": [
    "## <a name=\"C12\">2. Analyse de la corrélation entre le montant total et l'âge</a>"
   ]
  },
  {
   "cell_type": "markdown",
   "id": "1220cf95",
   "metadata": {},
   "source": [
    "Le montant total et l'âge sont deux variables quantitatives.<br>\n",
    "Comme pour les variables catégorielles, il existe des tests pour déterminer si deux variables continues sont indépendantes.<br>\n",
    "Corrélation paramétrique – corrélation de Pearson (r) : Elle mesure une dépendance linéaire entre deux variables (x et y) est connue sous le nom de test de corrélation paramétrique car elle dépend de la distribution des données.<br>\n",
    "Corrélation non paramétrique – Kendall(tau) et Spearman(rho) : ce sont des coefficients de corrélation basés sur le rang, connus sous le nom de corrélation non paramétrique.\n",
    ".<br>"
   ]
  },
  {
   "cell_type": "markdown",
   "id": "508aec56",
   "metadata": {},
   "source": [
    "###  Etape(1): Les données à étudier\n"
   ]
  },
  {
   "cell_type": "code",
   "execution_count": 84,
   "id": "3e8f3e84",
   "metadata": {},
   "outputs": [
    {
     "data": {
      "text/html": [
       "<div>\n",
       "<style scoped>\n",
       "    .dataframe tbody tr th:only-of-type {\n",
       "        vertical-align: middle;\n",
       "    }\n",
       "\n",
       "    .dataframe tbody tr th {\n",
       "        vertical-align: top;\n",
       "    }\n",
       "\n",
       "    .dataframe thead th {\n",
       "        text-align: right;\n",
       "    }\n",
       "</style>\n",
       "<table border=\"1\" class=\"dataframe\">\n",
       "  <thead>\n",
       "    <tr style=\"text-align: right;\">\n",
       "      <th></th>\n",
       "      <th>age</th>\n",
       "      <th>CA_age</th>\n",
       "    </tr>\n",
       "  </thead>\n",
       "  <tbody>\n",
       "    <tr>\n",
       "      <th>0</th>\n",
       "      <td>18</td>\n",
       "      <td>609013.690000</td>\n",
       "    </tr>\n",
       "    <tr>\n",
       "      <th>1</th>\n",
       "      <td>19</td>\n",
       "      <td>178195.780000</td>\n",
       "    </tr>\n",
       "    <tr>\n",
       "      <th>2</th>\n",
       "      <td>20</td>\n",
       "      <td>184209.264564</td>\n",
       "    </tr>\n",
       "    <tr>\n",
       "      <th>3</th>\n",
       "      <td>21</td>\n",
       "      <td>178497.700000</td>\n",
       "    </tr>\n",
       "    <tr>\n",
       "      <th>4</th>\n",
       "      <td>22</td>\n",
       "      <td>165029.256376</td>\n",
       "    </tr>\n",
       "  </tbody>\n",
       "</table>\n",
       "</div>"
      ],
      "text/plain": [
       "   age         CA_age\n",
       "0   18  609013.690000\n",
       "1   19  178195.780000\n",
       "2   20  184209.264564\n",
       "3   21  178497.700000\n",
       "4   22  165029.256376"
      ]
     },
     "execution_count": 84,
     "metadata": {},
     "output_type": "execute_result"
    }
   ],
   "source": [
    "# Scission des données selon age\n",
    "montant_par_age = df_B_to_C.groupby(\"age\")\n",
    "# Montant par age\n",
    "montant_par_age = montant_par_age['price'].agg([pd.Series.sum])\n",
    "montant_par_age = montant_par_age.reset_index().rename(columns = {'sum':'CA_age'})\n",
    "# Affichage\n",
    "montant_par_age.head()\n"
   ]
  },
  {
   "cell_type": "markdown",
   "id": "8a0e0964",
   "metadata": {},
   "source": [
    "### Etape(2): Visualisation des données "
   ]
  },
  {
   "cell_type": "code",
   "execution_count": 85,
   "id": "a1c1f277",
   "metadata": {},
   "outputs": [
    {
     "data": {
      "text/plain": [
       "<AxesSubplot:>"
      ]
     },
     "execution_count": 85,
     "metadata": {},
     "output_type": "execute_result"
    },
    {
     "data": {
      "image/png": "[encoded data removed]",
      "text/plain": [
       "<Figure size 432x288 with 1 Axes>"
      ]
     },
     "metadata": {
      "needs_background": "light"
     },
     "output_type": "display_data"
    }
   ],
   "source": [
    "# Histogramme de la variable CA_age\n",
    "montant_par_age['CA_age'].hist()"
   ]
  },
  {
   "cell_type": "code",
   "execution_count": 86,
   "id": "4c58846d",
   "metadata": {},
   "outputs": [
    {
     "data": {
      "image/png": "[encoded data removed]",
      "text/plain": [
       "<Figure size 432x288 with 1 Axes>"
      ]
     },
     "metadata": {
      "needs_background": "light"
     },
     "output_type": "display_data"
    }
   ],
   "source": [
    "# Le diagramme de dispersion\n",
    "plt.plot(montant_par_age[\"age\"],montant_par_age[\"CA_age\"],'o')\n",
    "plt.xlabel(\"age\")\n",
    "plt.ylabel(\"montant total par age\")\n",
    "plt.show()"
   ]
  },
  {
   "cell_type": "code",
   "execution_count": 87,
   "id": "991498c4",
   "metadata": {},
   "outputs": [
    {
     "data": {
      "image/png": "[encoded data removed]",
      "text/plain": [
       "<Figure size 720x504 with 1 Axes>"
      ]
     },
     "metadata": {
      "needs_background": "light"
     },
     "output_type": "display_data"
    }
   ],
   "source": [
    "# Boites à moustaches\n",
    "taille_classe = 20 # taille des classes pour la discrétisation\n",
    "\n",
    "groupes = [] # va recevoir les données agrégées à afficher\n",
    "\n",
    "# on calcule des tranches allant de 0 au age maximum par paliers de taille taille_classe\n",
    "tranches = np.arange(0, max(montant_par_age[\"age\"]), taille_classe)\n",
    "tranches += int(taille_classe/2) # on décale les tranches d'une demi taille de classe\n",
    "indices = np.digitize(montant_par_age[\"age\"], tranches) # associe chaque age à son numéro de classe\n",
    "for ind, tr in enumerate(tranches): # pour chaque tranche, ind reçoit le numéro de tranche et tr la tranche en question\n",
    "    montants = montant_par_age.loc[indices==ind,\"CA_age\"] # sélection des individus de la tranche ind\n",
    "    if len(montants) > 0:\n",
    "        g = {\n",
    "            'valeurs': montants,\n",
    "            'centre_classe': tr-(taille_classe/2),\n",
    "            'taille': len(montants),\n",
    "            'quartiles': [np.percentile(montants,p) for p in [25,50,75]]\n",
    "        }\n",
    "        groupes.append(g)\n",
    "\n",
    "plt.figure(figsize=(10,7))\n",
    "        \n",
    "# affichage des boxplots\n",
    "plt.boxplot([g[\"valeurs\"] for g in groupes],\n",
    "            positions= [g[\"centre_classe\"] for g in groupes], # abscisses des boxplots\n",
    "            showfliers= True, # on prend en compte les outliers\n",
    "            widths= taille_classe*0.7) # largeur graphique des boxplots\n",
    "\n",
    "# affichage des effectifs de chaque classe\n",
    "for g in groupes:\n",
    "    plt.text(g[\"centre_classe\"],0,\"(n={})\".format(g[\"taille\"]),horizontalalignment='center',verticalalignment='top')     \n",
    "plt.show()"
   ]
  },
  {
   "cell_type": "markdown",
   "id": "5fb2da1a",
   "metadata": {},
   "source": [
    "### Etape(3): Test de normalité \n",
    "Hypothèse nulle H0: l’échantillon est issu d’une population normalement distribuée.<br>\n",
    "Hypothèse nulle H1 l’échantillon n'est pas issu d’une population normalement distribuée.<br>"
   ]
  },
  {
   "cell_type": "code",
   "execution_count": 88,
   "id": "890f119d",
   "metadata": {},
   "outputs": [
    {
     "data": {
      "text/plain": [
       "ShapiroResult(statistic=0.8665079474449158, pvalue=4.4685886678053066e-05)"
      ]
     },
     "execution_count": 88,
     "metadata": {},
     "output_type": "execute_result"
    }
   ],
   "source": [
    "# Créer un sous-échantillon\n",
    "echantillon = montant_par_age.sample(50)\n",
    "# perform Shapiro-Wilk test\n",
    "shapiro(echantillon[\"CA_age\"])"
   ]
  },
  {
   "cell_type": "markdown",
   "id": "8b4d4d44",
   "metadata": {},
   "source": [
    "Wobs < W0.05<br>\n",
    "pvalue << 0.05 on rejette l'hypothèse nulle."
   ]
  },
  {
   "cell_type": "markdown",
   "id": "8165c46c",
   "metadata": {},
   "source": [
    "La distribution de la variable CA_age n'est pas gaussienne , et la relation entre les variables ne semble pas  être affine.\n",
    "On a fait le choix de faire un test de corrélation non paramétrique (test de Spearman). \n",
    "La corrélation de Spearman est étudiée lorsque deux variables statistiques semblent être corrélées sans que la relation entre les deux variables soit de type affine."
   ]
  },
  {
   "cell_type": "markdown",
   "id": "f4802247",
   "metadata": {},
   "source": [
    "### Etape(4): Test de corrélation de Spearman "
   ]
  },
  {
   "cell_type": "code",
   "execution_count": 91,
   "id": "d33b4cfd",
   "metadata": {},
   "outputs": [
    {
     "name": "stdout",
     "output_type": "stream",
     "text": [
      "Le coefficient de Spearman est: -0.8576076555023923\n"
     ]
    }
   ],
   "source": [
    "from scipy.stats import spearmanr\n",
    "#extract Spearman Rank correlation coefficient\n",
    "coeff = spearmanr(montant_par_age['age'], montant_par_age['CA_age'])[0]\n",
    "print('Le coefficient de Spearman est:', coeff)"
   ]
  },
  {
   "cell_type": "code",
   "execution_count": 92,
   "id": "e902642a",
   "metadata": {},
   "outputs": [
    {
     "name": "stdout",
     "output_type": "stream",
     "text": [
      "La p-valeur est 4.57972879340901e-23\n"
     ]
    }
   ],
   "source": [
    "#extract p-value of Spearman Rank correlation coefficient\n",
    "p_value = spearmanr(montant_par_age['age'], montant_par_age['CA_age'])[1] \n",
    "print('La p-valeur est',p_value)"
   ]
  },
  {
   "cell_type": "markdown",
   "id": "ca0ff57d",
   "metadata": {},
   "source": [
    " <div class=\"alert alert-block alert-info\">\n",
    "La p-valeur est inférieur à 5%. On en déduit que les variables ne sont pas indépendantes.<br>\n",
    "Il existe une association statistiquement significative entre l'âge et le montant total par âge.<br>\n",
    "    \n",
    "Le coefficient de Spearman permet de mesurer le niveau de corrélation entre les deux variables. Il renvoie une valeur entre -1 et 1. S’il est proche de 1 cela signifie que les variables sont corrélées, proche de 0 que les variables sont décorrélées et proche de -1 qu’elles sont corrélées négativement.<br>\n",
    "    \n",
    "Dans notre exemple, le coefficient a une valeur de -0.8576 ce qui signifie que les variables sont corrélées négativement.\n",
    "</div> \n"
   ]
  },
  {
   "cell_type": "markdown",
   "id": "0b071c6e",
   "metadata": {},
   "source": [
    "###  Etape(5): Identification des outliers"
   ]
  },
  {
   "cell_type": "code",
   "execution_count": 93,
   "id": "68ce059b",
   "metadata": {},
   "outputs": [
    {
     "name": "stdout",
     "output_type": "stream",
     "text": [
      "Le IQR est 192809.42 \n",
      " La limite supérieur est: 521080.73 \n",
      " La limite inférieur est: -250156.97\n"
     ]
    }
   ],
   "source": [
    "# Trouver le 1er quartile\n",
    "q1 = np.quantile(montant_par_age['CA_age'], 0.25)\n",
    "\n",
    "# Trouver le 3éme quartile\n",
    "q3 = np.quantile(montant_par_age['CA_age'], 0.75)\n",
    "# Calculer le iqr\n",
    "iqr = q3-q1\n",
    " \n",
    "# Calculer upper and lower moustaches\n",
    "limite_sup = q3+(1.5*iqr)\n",
    "limite_inf = q1-(1.5*iqr)\n",
    "print('Le IQR est' , round(iqr,2), '\\n La limite supérieur est:', round(limite_sup,2), '\\n La limite inférieur est:', round(limite_inf,2))"
   ]
  },
  {
   "cell_type": "code",
   "execution_count": 94,
   "id": "1a0d4474",
   "metadata": {},
   "outputs": [
    {
     "name": "stdout",
     "output_type": "stream",
     "text": [
      "Les outliers sont en nombre de: 2\n"
     ]
    }
   ],
   "source": [
    "# Nombre de outliers\n",
    "print('Les outliers sont en nombre de:',np.sum(montant_par_age['CA_age'] > limite_sup))"
   ]
  },
  {
   "cell_type": "code",
   "execution_count": 95,
   "id": "eb757796",
   "metadata": {},
   "outputs": [
    {
     "name": "stdout",
     "output_type": "stream",
     "text": [
      "Les outliers sont:\n",
      " 0     609013.690000\n",
      "24    613657.132752\n",
      "Name: CA_age, dtype: float64\n"
     ]
    }
   ],
   "source": [
    "# Lister les outliers\n",
    "outliers = montant_par_age['CA_age'][(montant_par_age['CA_age'] >= limite_sup)]\n",
    "print('Les outliers sont:\\n',outliers)"
   ]
  },
  {
   "cell_type": "code",
   "execution_count": 96,
   "id": "80b9e237",
   "metadata": {},
   "outputs": [],
   "source": [
    "# Créer une DataFrame sans outliers\n",
    "df_non_outliers = montant_par_age.loc[(montant_par_age['CA_age'] > limite_inf) &  (montant_par_age['CA_age'] < limite_sup),:]"
   ]
  },
  {
   "cell_type": "markdown",
   "id": "99cddf15",
   "metadata": {},
   "source": [
    "###  Etape(6): Effectuer une régression polynomiale\n"
   ]
  },
  {
   "cell_type": "markdown",
   "id": "60ca00c5",
   "metadata": {},
   "source": [
    "On va essayer d'ajuster un modèle de régression polynomiale en utilisant l'âge comme variable explicative et le chiffre d'affaires comme variable de réponse."
   ]
  },
  {
   "cell_type": "code",
   "execution_count": 97,
   "id": "e94523e0",
   "metadata": {},
   "outputs": [],
   "source": [
    "#Définir la variable à expliquer\n",
    "y1 = df_non_outliers['CA_age']\n",
    "\n",
    "#Définir la variable explicative\n",
    "x1 = df_non_outliers['age']"
   ]
  },
  {
   "cell_type": "code",
   "execution_count": 98,
   "id": "1347f4a4",
   "metadata": {},
   "outputs": [
    {
     "data": {
      "image/png": "[encoded data removed]",
      "text/plain": [
       "<Figure size 432x288 with 1 Axes>"
      ]
     },
     "metadata": {
      "needs_background": "light"
     },
     "output_type": "display_data"
    }
   ],
   "source": [
    "#polynomial fit with degree = 3\n",
    "model = np.poly1d(np.polyfit(x1 , y1, 3))\n",
    "\n",
    "#add fitted polynomial line to scatterplot\n",
    "polyline = np.linspace(15, 100, 50)\n",
    "plt.scatter(x1, y1)\n",
    "plt.plot(polyline, model(polyline))\n",
    "plt.show()\n"
   ]
  },
  {
   "cell_type": "code",
   "execution_count": 99,
   "id": "74d63d6c",
   "metadata": {},
   "outputs": [
    {
     "name": "stdout",
     "output_type": "stream",
     "text": [
      "       3         2\n",
      "3.805 x - 688.3 x + 3.39e+04 x - 2.399e+05\n"
     ]
    }
   ],
   "source": [
    "print(model)"
   ]
  },
  {
   "cell_type": "code",
   "execution_count": 100,
   "id": "9260603f",
   "metadata": {},
   "outputs": [
    {
     "data": {
      "text/plain": [
       "{'r_squared': 0.8123301433599707}"
      ]
     },
     "execution_count": 100,
     "metadata": {},
     "output_type": "execute_result"
    }
   ],
   "source": [
    "#define function to calculate r-squared\n",
    "def polyfit(x, y, degree):\n",
    "    results = {}\n",
    "    coeffs = np.polyfit(x, y, degree)\n",
    "    p = np.poly1d(coeffs)\n",
    "    #calculate r-squared\n",
    "    yhat = p(x)\n",
    "    ybar = np.sum(y)/len(y)\n",
    "    ssreg = np.sum((yhat-ybar)**2)\n",
    "    sstot = np.sum((y - ybar)**2)\n",
    "    results['r_squared'] = ssreg / sstot\n",
    "\n",
    "    return results\n",
    "\n",
    "#find r-squared of polynomial model with degree = 3\n",
    "polyfit(x1, y1, 3)"
   ]
  },
  {
   "cell_type": "markdown",
   "id": "320e5dc1",
   "metadata": {},
   "source": [
    " <div class=\"alert alert-block alert-info\">\n",
    " \n",
    "Étant donné que la valeur est nettement inférieure à 0,05, nous pouvons dire qu'il existe une association statistiquement significative entre l'âge et le montant total par âge.\n",
    "\n",
    "R-squared :  En général, plus la valeur R au carré d'un modèle de régression est élevée, plus les variables explicatives sont capables de prédire la valeur de la variable de réponse. Dans ce cas, 81 % de la variation du chiffre d'affaires s'expliquent par l'âge du client.      \n",
    "     \n",
    "</div>\n",
    "\n",
    "\n"
   ]
  },
  {
   "cell_type": "markdown",
   "id": "c2d83ba0",
   "metadata": {},
   "source": [
    "### <a name=\"C13\">3.Analyser la corrélation entre les catégories des livres et l'âge</a>"
   ]
  },
  {
   "cell_type": "markdown",
   "id": "bf36590e",
   "metadata": {},
   "source": [
    "### 1-Visualisation de l'influence en affichant les boîtes à moustaches "
   ]
  },
  {
   "cell_type": "code",
   "execution_count": 101,
   "id": "63ac861f",
   "metadata": {},
   "outputs": [
    {
     "data": {
      "image/png": "[encoded data removed]",
      "text/plain": [
       "<Figure size 432x288 with 1 Axes>"
      ]
     },
     "metadata": {
      "needs_background": "light"
     },
     "output_type": "display_data"
    }
   ],
   "source": [
    "X = \"categ\" # qualitative\n",
    "Y = \"age\" # quantitative\n",
    "modalites = df_B_to_C['categ'].unique()\n",
    "groupes = []\n",
    "for m in modalites:\n",
    "    groupes.append(df_B_to_C[df_B_to_C['categ'] == m][Y])\n",
    "\n",
    "# Propriétés graphiques    \n",
    "medianprops = {'color':\"black\"}\n",
    "meanprops = {'marker':'o', 'markeredgecolor':'black',\n",
    "            'markerfacecolor':'firebrick'}\n",
    "    \n",
    "plt.boxplot(groupes,labels = modalites,  showfliers = False, medianprops = medianprops, \n",
    "            vert = False, patch_artist = True, showmeans= True, meanprops = meanprops)\n",
    "plt.show()"
   ]
  },
  {
   "cell_type": "markdown",
   "id": "9d114b30",
   "metadata": {},
   "source": [
    "Il semble qu'il y ait des différences distinctes entre les trois groupes. Effectuons donc un test ANOVA pour prouver si c'est le cas.<br>\n",
    "Les boxplots de certains groupes étant plus étendus que d’autres, cela laisse penser que les résidus ne seront probablement pas homogènes. De plus, la présence d’outliers dans les groupes laisse également envisager un défaut de normalité des résidus."
   ]
  },
  {
   "cell_type": "markdown",
   "id": "fa2b4a07",
   "metadata": {},
   "source": [
    "### 2- Calcul du rapport de corrélation"
   ]
  },
  {
   "cell_type": "markdown",
   "id": "228f76a5",
   "metadata": {},
   "source": [
    " Définition : Le rapport de corrélation est la part de variations de Y expliquée par X dans la variation totale de Y. "
   ]
  },
  {
   "cell_type": "code",
   "execution_count": 102,
   "id": "bd51a6a7",
   "metadata": {},
   "outputs": [
    {
     "data": {
      "text/plain": [
       "0.11904305510407029"
      ]
     },
     "execution_count": 102,
     "metadata": {},
     "output_type": "execute_result"
    }
   ],
   "source": [
    " # Un indicateur de liaison : le rapport de corrélation\n",
    "X = \"categ\" # qualitative\n",
    "Y = \"age\" # quantitative\n",
    "\n",
    "\n",
    "def eta_squared(x,y):\n",
    "    moyenne_y = y.mean()\n",
    "    classes = []\n",
    "    for classe in x.unique():\n",
    "        yi_classe = y[x==classe]\n",
    "        classes.append({'ni': len(yi_classe),\n",
    "                        'moyenne_classe': yi_classe.mean()})\n",
    "    SCT = sum([(yj-moyenne_y)**2 for yj in y])\n",
    "    SCE = sum([c['ni']*(c['moyenne_classe']-moyenne_y)**2 for c in classes])\n",
    "    return SCE/SCT\n",
    "    \n",
    "eta_squared(df_B_to_C['categ'],df_B_to_C\n",
    "            ['age'])"
   ]
  },
  {
   "cell_type": "markdown",
   "id": "7a868085",
   "metadata": {},
   "source": [
    "### 3- Réaliser une analyse de la variance ANOVA"
   ]
  },
  {
   "cell_type": "markdown",
   "id": "88175d77",
   "metadata": {},
   "source": [
    "ANOVA \"Analyse de la variance\" teste une différence globale entre tous les groupes. L'ANOVA unidirectionnelle, également appelée ANOVA à un facteur, est un test paramétrique utilisé pour tester une différence statistiquement significative d'un résultat entre 3 groupes ou plus. Comme pour tous les tests paramétriques, certaines conditions doivent être remplies pour que les résultats du test soient considérés comme fiables.\n",
    "\n",
    "Une statistique F est un rapport de deux quantités qui devraient être à peu près égales selon l’hypothèse nulle, qui produit une statistique F d’environ 1. \n",
    "L'ANOVA utilise le test F pour déterminer si la variabilité entre les moyens de groupe est plus grande que la variabilité des observations à l’intérieur des groupes. Si ce rapport est suffisamment élevé, On peut conclure que toutes les moyennes ne sont pas égales.\n"
   ]
  },
  {
   "cell_type": "markdown",
   "id": "caac63d1",
   "metadata": {},
   "source": [
    "### 4- Créer un sous-échantillon :\n",
    "On fait un plan d'expérience complet( ∀i∈{1,…,3}:ni>0) et équilibré (n1=n2=n3=100)  :\n"
   ]
  },
  {
   "cell_type": "code",
   "execution_count": 103,
   "id": "439b2bf7",
   "metadata": {},
   "outputs": [
    {
     "data": {
      "text/html": [
       "<div>\n",
       "<style scoped>\n",
       "    .dataframe tbody tr th:only-of-type {\n",
       "        vertical-align: middle;\n",
       "    }\n",
       "\n",
       "    .dataframe tbody tr th {\n",
       "        vertical-align: top;\n",
       "    }\n",
       "\n",
       "    .dataframe thead th {\n",
       "        text-align: right;\n",
       "    }\n",
       "</style>\n",
       "<table border=\"1\" class=\"dataframe\">\n",
       "  <thead>\n",
       "    <tr style=\"text-align: right;\">\n",
       "      <th></th>\n",
       "      <th>client_id</th>\n",
       "      <th>sex</th>\n",
       "      <th>birth</th>\n",
       "      <th>id_prod</th>\n",
       "      <th>date</th>\n",
       "      <th>session_id</th>\n",
       "      <th>price</th>\n",
       "      <th>categ</th>\n",
       "      <th>Year</th>\n",
       "      <th>month</th>\n",
       "      <th>day</th>\n",
       "      <th>age</th>\n",
       "    </tr>\n",
       "  </thead>\n",
       "  <tbody>\n",
       "    <tr>\n",
       "      <th>16531</th>\n",
       "      <td>c_214</td>\n",
       "      <td>f</td>\n",
       "      <td>1960-01-01</td>\n",
       "      <td>0_1426</td>\n",
       "      <td>2022-12-02</td>\n",
       "      <td>s_305861</td>\n",
       "      <td>13.44</td>\n",
       "      <td>0</td>\n",
       "      <td>2022</td>\n",
       "      <td>12</td>\n",
       "      <td>2</td>\n",
       "      <td>62</td>\n",
       "    </tr>\n",
       "    <tr>\n",
       "      <th>92723</th>\n",
       "      <td>c_6909</td>\n",
       "      <td>m</td>\n",
       "      <td>1981-01-01</td>\n",
       "      <td>0_1505</td>\n",
       "      <td>2022-07-10</td>\n",
       "      <td>s_236169</td>\n",
       "      <td>14.99</td>\n",
       "      <td>0</td>\n",
       "      <td>2022</td>\n",
       "      <td>7</td>\n",
       "      <td>10</td>\n",
       "      <td>41</td>\n",
       "    </tr>\n",
       "    <tr>\n",
       "      <th>534543</th>\n",
       "      <td>c_3384</td>\n",
       "      <td>f</td>\n",
       "      <td>1973-01-01</td>\n",
       "      <td>0_1015</td>\n",
       "      <td>2022-10-19</td>\n",
       "      <td>s_284956</td>\n",
       "      <td>10.99</td>\n",
       "      <td>0</td>\n",
       "      <td>2022</td>\n",
       "      <td>10</td>\n",
       "      <td>19</td>\n",
       "      <td>49</td>\n",
       "    </tr>\n",
       "    <tr>\n",
       "      <th>152153</th>\n",
       "      <td>c_1609</td>\n",
       "      <td>m</td>\n",
       "      <td>1980-01-01</td>\n",
       "      <td>0_1623</td>\n",
       "      <td>2021-07-05</td>\n",
       "      <td>s_58284</td>\n",
       "      <td>7.99</td>\n",
       "      <td>0</td>\n",
       "      <td>2021</td>\n",
       "      <td>7</td>\n",
       "      <td>5</td>\n",
       "      <td>42</td>\n",
       "    </tr>\n",
       "    <tr>\n",
       "      <th>149867</th>\n",
       "      <td>c_247</td>\n",
       "      <td>m</td>\n",
       "      <td>1988-01-01</td>\n",
       "      <td>0_1621</td>\n",
       "      <td>2022-12-27</td>\n",
       "      <td>s_318264</td>\n",
       "      <td>17.99</td>\n",
       "      <td>0</td>\n",
       "      <td>2022</td>\n",
       "      <td>12</td>\n",
       "      <td>27</td>\n",
       "      <td>34</td>\n",
       "    </tr>\n",
       "    <tr>\n",
       "      <th>...</th>\n",
       "      <td>...</td>\n",
       "      <td>...</td>\n",
       "      <td>...</td>\n",
       "      <td>...</td>\n",
       "      <td>...</td>\n",
       "      <td>...</td>\n",
       "      <td>...</td>\n",
       "      <td>...</td>\n",
       "      <td>...</td>\n",
       "      <td>...</td>\n",
       "      <td>...</td>\n",
       "      <td>...</td>\n",
       "    </tr>\n",
       "    <tr>\n",
       "      <th>664588</th>\n",
       "      <td>c_5279</td>\n",
       "      <td>f</td>\n",
       "      <td>1984-01-01</td>\n",
       "      <td>0_1615</td>\n",
       "      <td>2022-06-24</td>\n",
       "      <td>s_228605</td>\n",
       "      <td>1.99</td>\n",
       "      <td>0</td>\n",
       "      <td>2022</td>\n",
       "      <td>6</td>\n",
       "      <td>24</td>\n",
       "      <td>38</td>\n",
       "    </tr>\n",
       "    <tr>\n",
       "      <th>253082</th>\n",
       "      <td>c_5413</td>\n",
       "      <td>f</td>\n",
       "      <td>1979-01-01</td>\n",
       "      <td>0_1617</td>\n",
       "      <td>2021-12-02</td>\n",
       "      <td>s_128207</td>\n",
       "      <td>11.99</td>\n",
       "      <td>0</td>\n",
       "      <td>2021</td>\n",
       "      <td>12</td>\n",
       "      <td>2</td>\n",
       "      <td>43</td>\n",
       "    </tr>\n",
       "    <tr>\n",
       "      <th>194285</th>\n",
       "      <td>c_1609</td>\n",
       "      <td>m</td>\n",
       "      <td>1980-01-01</td>\n",
       "      <td>0_1464</td>\n",
       "      <td>2022-09-13</td>\n",
       "      <td>s_267570</td>\n",
       "      <td>8.27</td>\n",
       "      <td>0</td>\n",
       "      <td>2022</td>\n",
       "      <td>9</td>\n",
       "      <td>13</td>\n",
       "      <td>42</td>\n",
       "    </tr>\n",
       "    <tr>\n",
       "      <th>662737</th>\n",
       "      <td>c_8252</td>\n",
       "      <td>f</td>\n",
       "      <td>1989-01-01</td>\n",
       "      <td>0_135</td>\n",
       "      <td>2022-02-25</td>\n",
       "      <td>s_170635</td>\n",
       "      <td>12.99</td>\n",
       "      <td>0</td>\n",
       "      <td>2022</td>\n",
       "      <td>2</td>\n",
       "      <td>25</td>\n",
       "      <td>33</td>\n",
       "    </tr>\n",
       "    <tr>\n",
       "      <th>358610</th>\n",
       "      <td>c_3300</td>\n",
       "      <td>f</td>\n",
       "      <td>1984-01-01</td>\n",
       "      <td>0_1392</td>\n",
       "      <td>2022-08-22</td>\n",
       "      <td>s_256927</td>\n",
       "      <td>6.30</td>\n",
       "      <td>0</td>\n",
       "      <td>2022</td>\n",
       "      <td>8</td>\n",
       "      <td>22</td>\n",
       "      <td>38</td>\n",
       "    </tr>\n",
       "  </tbody>\n",
       "</table>\n",
       "<p>100 rows × 12 columns</p>\n",
       "</div>"
      ],
      "text/plain": [
       "       client_id sex       birth id_prod        date session_id  price  categ  \\\n",
       "16531      c_214   f  1960-01-01  0_1426  2022-12-02   s_305861  13.44      0   \n",
       "92723     c_6909   m  1981-01-01  0_1505  2022-07-10   s_236169  14.99      0   \n",
       "534543    c_3384   f  1973-01-01  0_1015  2022-10-19   s_284956  10.99      0   \n",
       "152153    c_1609   m  1980-01-01  0_1623  2021-07-05    s_58284   7.99      0   \n",
       "149867     c_247   m  1988-01-01  0_1621  2022-12-27   s_318264  17.99      0   \n",
       "...          ...  ..         ...     ...         ...        ...    ...    ...   \n",
       "664588    c_5279   f  1984-01-01  0_1615  2022-06-24   s_228605   1.99      0   \n",
       "253082    c_5413   f  1979-01-01  0_1617  2021-12-02   s_128207  11.99      0   \n",
       "194285    c_1609   m  1980-01-01  0_1464  2022-09-13   s_267570   8.27      0   \n",
       "662737    c_8252   f  1989-01-01   0_135  2022-02-25   s_170635  12.99      0   \n",
       "358610    c_3300   f  1984-01-01  0_1392  2022-08-22   s_256927   6.30      0   \n",
       "\n",
       "        Year  month  day  age  \n",
       "16531   2022     12    2   62  \n",
       "92723   2022      7   10   41  \n",
       "534543  2022     10   19   49  \n",
       "152153  2021      7    5   42  \n",
       "149867  2022     12   27   34  \n",
       "...      ...    ...  ...  ...  \n",
       "664588  2022      6   24   38  \n",
       "253082  2021     12    2   43  \n",
       "194285  2022      9   13   42  \n",
       "662737  2022      2   25   33  \n",
       "358610  2022      8   22   38  \n",
       "\n",
       "[100 rows x 12 columns]"
      ]
     },
     "execution_count": 103,
     "metadata": {},
     "output_type": "execute_result"
    }
   ],
   "source": [
    "df_subset_categ0 = df_B_to_C.loc[df_B_to_C['categ']==0]\n",
    "df_subset_categ0 =df_subset_categ0.sample(n=100)\n",
    "df_subset_categ0\n"
   ]
  },
  {
   "cell_type": "code",
   "execution_count": 104,
   "id": "d25cca60",
   "metadata": {},
   "outputs": [
    {
     "data": {
      "text/html": [
       "<div>\n",
       "<style scoped>\n",
       "    .dataframe tbody tr th:only-of-type {\n",
       "        vertical-align: middle;\n",
       "    }\n",
       "\n",
       "    .dataframe tbody tr th {\n",
       "        vertical-align: top;\n",
       "    }\n",
       "\n",
       "    .dataframe thead th {\n",
       "        text-align: right;\n",
       "    }\n",
       "</style>\n",
       "<table border=\"1\" class=\"dataframe\">\n",
       "  <thead>\n",
       "    <tr style=\"text-align: right;\">\n",
       "      <th></th>\n",
       "      <th>client_id</th>\n",
       "      <th>sex</th>\n",
       "      <th>birth</th>\n",
       "      <th>id_prod</th>\n",
       "      <th>date</th>\n",
       "      <th>session_id</th>\n",
       "      <th>price</th>\n",
       "      <th>categ</th>\n",
       "      <th>Year</th>\n",
       "      <th>month</th>\n",
       "      <th>day</th>\n",
       "      <th>age</th>\n",
       "    </tr>\n",
       "  </thead>\n",
       "  <tbody>\n",
       "    <tr>\n",
       "      <th>353101</th>\n",
       "      <td>c_747</td>\n",
       "      <td>f</td>\n",
       "      <td>1986-01-01</td>\n",
       "      <td>1_370</td>\n",
       "      <td>2021-03-14</td>\n",
       "      <td>s_6088</td>\n",
       "      <td>13.11</td>\n",
       "      <td>1</td>\n",
       "      <td>2021</td>\n",
       "      <td>3</td>\n",
       "      <td>14</td>\n",
       "      <td>36</td>\n",
       "    </tr>\n",
       "    <tr>\n",
       "      <th>370365</th>\n",
       "      <td>c_5338</td>\n",
       "      <td>m</td>\n",
       "      <td>1963-01-01</td>\n",
       "      <td>1_475</td>\n",
       "      <td>2021-05-16</td>\n",
       "      <td>s_35366</td>\n",
       "      <td>20.99</td>\n",
       "      <td>1</td>\n",
       "      <td>2021</td>\n",
       "      <td>5</td>\n",
       "      <td>16</td>\n",
       "      <td>59</td>\n",
       "    </tr>\n",
       "    <tr>\n",
       "      <th>400242</th>\n",
       "      <td>c_6201</td>\n",
       "      <td>f</td>\n",
       "      <td>1960-01-01</td>\n",
       "      <td>1_288</td>\n",
       "      <td>2022-01-18</td>\n",
       "      <td>s_151717</td>\n",
       "      <td>22.09</td>\n",
       "      <td>1</td>\n",
       "      <td>2022</td>\n",
       "      <td>1</td>\n",
       "      <td>18</td>\n",
       "      <td>62</td>\n",
       "    </tr>\n",
       "    <tr>\n",
       "      <th>33636</th>\n",
       "      <td>c_5172</td>\n",
       "      <td>m</td>\n",
       "      <td>1955-01-01</td>\n",
       "      <td>1_448</td>\n",
       "      <td>2021-03-31</td>\n",
       "      <td>s_14090</td>\n",
       "      <td>13.79</td>\n",
       "      <td>1</td>\n",
       "      <td>2021</td>\n",
       "      <td>3</td>\n",
       "      <td>31</td>\n",
       "      <td>67</td>\n",
       "    </tr>\n",
       "    <tr>\n",
       "      <th>33664</th>\n",
       "      <td>c_5705</td>\n",
       "      <td>m</td>\n",
       "      <td>1986-01-01</td>\n",
       "      <td>1_448</td>\n",
       "      <td>2021-06-29</td>\n",
       "      <td>s_55517</td>\n",
       "      <td>13.79</td>\n",
       "      <td>1</td>\n",
       "      <td>2021</td>\n",
       "      <td>6</td>\n",
       "      <td>29</td>\n",
       "      <td>36</td>\n",
       "    </tr>\n",
       "    <tr>\n",
       "      <th>...</th>\n",
       "      <td>...</td>\n",
       "      <td>...</td>\n",
       "      <td>...</td>\n",
       "      <td>...</td>\n",
       "      <td>...</td>\n",
       "      <td>...</td>\n",
       "      <td>...</td>\n",
       "      <td>...</td>\n",
       "      <td>...</td>\n",
       "      <td>...</td>\n",
       "      <td>...</td>\n",
       "      <td>...</td>\n",
       "    </tr>\n",
       "    <tr>\n",
       "      <th>267770</th>\n",
       "      <td>c_1446</td>\n",
       "      <td>m</td>\n",
       "      <td>1960-01-01</td>\n",
       "      <td>1_364</td>\n",
       "      <td>2021-07-10</td>\n",
       "      <td>s_60301</td>\n",
       "      <td>10.30</td>\n",
       "      <td>1</td>\n",
       "      <td>2021</td>\n",
       "      <td>7</td>\n",
       "      <td>10</td>\n",
       "      <td>62</td>\n",
       "    </tr>\n",
       "    <tr>\n",
       "      <th>455117</th>\n",
       "      <td>c_989</td>\n",
       "      <td>m</td>\n",
       "      <td>1990-01-01</td>\n",
       "      <td>1_670</td>\n",
       "      <td>2022-10-13</td>\n",
       "      <td>s_281703</td>\n",
       "      <td>29.55</td>\n",
       "      <td>1</td>\n",
       "      <td>2022</td>\n",
       "      <td>10</td>\n",
       "      <td>13</td>\n",
       "      <td>32</td>\n",
       "    </tr>\n",
       "    <tr>\n",
       "      <th>64084</th>\n",
       "      <td>c_8485</td>\n",
       "      <td>m</td>\n",
       "      <td>1959-01-01</td>\n",
       "      <td>1_431</td>\n",
       "      <td>2021-05-01</td>\n",
       "      <td>s_28225</td>\n",
       "      <td>27.99</td>\n",
       "      <td>1</td>\n",
       "      <td>2021</td>\n",
       "      <td>5</td>\n",
       "      <td>1</td>\n",
       "      <td>63</td>\n",
       "    </tr>\n",
       "    <tr>\n",
       "      <th>62879</th>\n",
       "      <td>c_3853</td>\n",
       "      <td>f</td>\n",
       "      <td>1964-01-01</td>\n",
       "      <td>1_431</td>\n",
       "      <td>2021-03-18</td>\n",
       "      <td>s_7874</td>\n",
       "      <td>27.99</td>\n",
       "      <td>1</td>\n",
       "      <td>2021</td>\n",
       "      <td>3</td>\n",
       "      <td>18</td>\n",
       "      <td>58</td>\n",
       "    </tr>\n",
       "    <tr>\n",
       "      <th>573540</th>\n",
       "      <td>c_4785</td>\n",
       "      <td>f</td>\n",
       "      <td>1970-01-01</td>\n",
       "      <td>1_574</td>\n",
       "      <td>2022-05-26</td>\n",
       "      <td>s_214255</td>\n",
       "      <td>33.20</td>\n",
       "      <td>1</td>\n",
       "      <td>2022</td>\n",
       "      <td>5</td>\n",
       "      <td>26</td>\n",
       "      <td>52</td>\n",
       "    </tr>\n",
       "  </tbody>\n",
       "</table>\n",
       "<p>100 rows × 12 columns</p>\n",
       "</div>"
      ],
      "text/plain": [
       "       client_id sex       birth id_prod        date session_id  price  categ  \\\n",
       "353101     c_747   f  1986-01-01   1_370  2021-03-14     s_6088  13.11      1   \n",
       "370365    c_5338   m  1963-01-01   1_475  2021-05-16    s_35366  20.99      1   \n",
       "400242    c_6201   f  1960-01-01   1_288  2022-01-18   s_151717  22.09      1   \n",
       "33636     c_5172   m  1955-01-01   1_448  2021-03-31    s_14090  13.79      1   \n",
       "33664     c_5705   m  1986-01-01   1_448  2021-06-29    s_55517  13.79      1   \n",
       "...          ...  ..         ...     ...         ...        ...    ...    ...   \n",
       "267770    c_1446   m  1960-01-01   1_364  2021-07-10    s_60301  10.30      1   \n",
       "455117     c_989   m  1990-01-01   1_670  2022-10-13   s_281703  29.55      1   \n",
       "64084     c_8485   m  1959-01-01   1_431  2021-05-01    s_28225  27.99      1   \n",
       "62879     c_3853   f  1964-01-01   1_431  2021-03-18     s_7874  27.99      1   \n",
       "573540    c_4785   f  1970-01-01   1_574  2022-05-26   s_214255  33.20      1   \n",
       "\n",
       "        Year  month  day  age  \n",
       "353101  2021      3   14   36  \n",
       "370365  2021      5   16   59  \n",
       "400242  2022      1   18   62  \n",
       "33636   2021      3   31   67  \n",
       "33664   2021      6   29   36  \n",
       "...      ...    ...  ...  ...  \n",
       "267770  2021      7   10   62  \n",
       "455117  2022     10   13   32  \n",
       "64084   2021      5    1   63  \n",
       "62879   2021      3   18   58  \n",
       "573540  2022      5   26   52  \n",
       "\n",
       "[100 rows x 12 columns]"
      ]
     },
     "execution_count": 104,
     "metadata": {},
     "output_type": "execute_result"
    }
   ],
   "source": [
    "df_subset_categ1 = df_B_to_C.loc[df_B_to_C['categ']==1]\n",
    "df_subset_categ1 =df_subset_categ1.sample(n=100)\n",
    "df_subset_categ1"
   ]
  },
  {
   "cell_type": "code",
   "execution_count": 105,
   "id": "f950bc16",
   "metadata": {},
   "outputs": [
    {
     "data": {
      "text/html": [
       "<div>\n",
       "<style scoped>\n",
       "    .dataframe tbody tr th:only-of-type {\n",
       "        vertical-align: middle;\n",
       "    }\n",
       "\n",
       "    .dataframe tbody tr th {\n",
       "        vertical-align: top;\n",
       "    }\n",
       "\n",
       "    .dataframe thead th {\n",
       "        text-align: right;\n",
       "    }\n",
       "</style>\n",
       "<table border=\"1\" class=\"dataframe\">\n",
       "  <thead>\n",
       "    <tr style=\"text-align: right;\">\n",
       "      <th></th>\n",
       "      <th>client_id</th>\n",
       "      <th>sex</th>\n",
       "      <th>birth</th>\n",
       "      <th>id_prod</th>\n",
       "      <th>date</th>\n",
       "      <th>session_id</th>\n",
       "      <th>price</th>\n",
       "      <th>categ</th>\n",
       "      <th>Year</th>\n",
       "      <th>month</th>\n",
       "      <th>day</th>\n",
       "      <th>age</th>\n",
       "    </tr>\n",
       "  </thead>\n",
       "  <tbody>\n",
       "    <tr>\n",
       "      <th>259096</th>\n",
       "      <td>c_4958</td>\n",
       "      <td>m</td>\n",
       "      <td>1999-01-01</td>\n",
       "      <td>2_110</td>\n",
       "      <td>2022-04-08</td>\n",
       "      <td>s_191270</td>\n",
       "      <td>62.25</td>\n",
       "      <td>2</td>\n",
       "      <td>2022</td>\n",
       "      <td>4</td>\n",
       "      <td>8</td>\n",
       "      <td>23</td>\n",
       "    </tr>\n",
       "    <tr>\n",
       "      <th>640993</th>\n",
       "      <td>c_2493</td>\n",
       "      <td>f</td>\n",
       "      <td>1998-01-01</td>\n",
       "      <td>2_147</td>\n",
       "      <td>2022-10-18</td>\n",
       "      <td>s_284088</td>\n",
       "      <td>181.99</td>\n",
       "      <td>2</td>\n",
       "      <td>2022</td>\n",
       "      <td>10</td>\n",
       "      <td>18</td>\n",
       "      <td>24</td>\n",
       "    </tr>\n",
       "    <tr>\n",
       "      <th>511491</th>\n",
       "      <td>c_7503</td>\n",
       "      <td>f</td>\n",
       "      <td>1998-01-01</td>\n",
       "      <td>2_32</td>\n",
       "      <td>2021-12-03</td>\n",
       "      <td>s_128681</td>\n",
       "      <td>55.79</td>\n",
       "      <td>2</td>\n",
       "      <td>2021</td>\n",
       "      <td>12</td>\n",
       "      <td>3</td>\n",
       "      <td>24</td>\n",
       "    </tr>\n",
       "    <tr>\n",
       "      <th>559350</th>\n",
       "      <td>c_4280</td>\n",
       "      <td>f</td>\n",
       "      <td>2004-01-01</td>\n",
       "      <td>2_62</td>\n",
       "      <td>2022-06-04</td>\n",
       "      <td>s_218592</td>\n",
       "      <td>60.96</td>\n",
       "      <td>2</td>\n",
       "      <td>2022</td>\n",
       "      <td>6</td>\n",
       "      <td>4</td>\n",
       "      <td>18</td>\n",
       "    </tr>\n",
       "    <tr>\n",
       "      <th>597851</th>\n",
       "      <td>c_2898</td>\n",
       "      <td>f</td>\n",
       "      <td>1998-01-01</td>\n",
       "      <td>2_222</td>\n",
       "      <td>2021-11-20</td>\n",
       "      <td>s_122276</td>\n",
       "      <td>103.58</td>\n",
       "      <td>2</td>\n",
       "      <td>2021</td>\n",
       "      <td>11</td>\n",
       "      <td>20</td>\n",
       "      <td>24</td>\n",
       "    </tr>\n",
       "    <tr>\n",
       "      <th>...</th>\n",
       "      <td>...</td>\n",
       "      <td>...</td>\n",
       "      <td>...</td>\n",
       "      <td>...</td>\n",
       "      <td>...</td>\n",
       "      <td>...</td>\n",
       "      <td>...</td>\n",
       "      <td>...</td>\n",
       "      <td>...</td>\n",
       "      <td>...</td>\n",
       "      <td>...</td>\n",
       "      <td>...</td>\n",
       "    </tr>\n",
       "    <tr>\n",
       "      <th>438297</th>\n",
       "      <td>c_1619</td>\n",
       "      <td>f</td>\n",
       "      <td>2004-01-01</td>\n",
       "      <td>2_109</td>\n",
       "      <td>2021-07-09</td>\n",
       "      <td>s_59852</td>\n",
       "      <td>53.99</td>\n",
       "      <td>2</td>\n",
       "      <td>2021</td>\n",
       "      <td>7</td>\n",
       "      <td>9</td>\n",
       "      <td>18</td>\n",
       "    </tr>\n",
       "    <tr>\n",
       "      <th>78471</th>\n",
       "      <td>c_5082</td>\n",
       "      <td>f</td>\n",
       "      <td>2001-01-01</td>\n",
       "      <td>2_208</td>\n",
       "      <td>2023-01-10</td>\n",
       "      <td>s_324711</td>\n",
       "      <td>54.87</td>\n",
       "      <td>2</td>\n",
       "      <td>2023</td>\n",
       "      <td>1</td>\n",
       "      <td>10</td>\n",
       "      <td>21</td>\n",
       "    </tr>\n",
       "    <tr>\n",
       "      <th>437179</th>\n",
       "      <td>c_6887</td>\n",
       "      <td>f</td>\n",
       "      <td>2004-01-01</td>\n",
       "      <td>2_184</td>\n",
       "      <td>2021-11-19</td>\n",
       "      <td>s_122049</td>\n",
       "      <td>49.61</td>\n",
       "      <td>2</td>\n",
       "      <td>2021</td>\n",
       "      <td>11</td>\n",
       "      <td>19</td>\n",
       "      <td>18</td>\n",
       "    </tr>\n",
       "    <tr>\n",
       "      <th>139258</th>\n",
       "      <td>c_5132</td>\n",
       "      <td>f</td>\n",
       "      <td>1992-01-01</td>\n",
       "      <td>2_26</td>\n",
       "      <td>2021-08-05</td>\n",
       "      <td>s_71656</td>\n",
       "      <td>42.51</td>\n",
       "      <td>2</td>\n",
       "      <td>2021</td>\n",
       "      <td>8</td>\n",
       "      <td>5</td>\n",
       "      <td>30</td>\n",
       "    </tr>\n",
       "    <tr>\n",
       "      <th>554885</th>\n",
       "      <td>c_1179</td>\n",
       "      <td>m</td>\n",
       "      <td>2002-01-01</td>\n",
       "      <td>2_164</td>\n",
       "      <td>2021-11-14</td>\n",
       "      <td>s_119604</td>\n",
       "      <td>52.26</td>\n",
       "      <td>2</td>\n",
       "      <td>2021</td>\n",
       "      <td>11</td>\n",
       "      <td>14</td>\n",
       "      <td>20</td>\n",
       "    </tr>\n",
       "  </tbody>\n",
       "</table>\n",
       "<p>100 rows × 12 columns</p>\n",
       "</div>"
      ],
      "text/plain": [
       "       client_id sex       birth id_prod        date session_id   price  \\\n",
       "259096    c_4958   m  1999-01-01   2_110  2022-04-08   s_191270   62.25   \n",
       "640993    c_2493   f  1998-01-01   2_147  2022-10-18   s_284088  181.99   \n",
       "511491    c_7503   f  1998-01-01    2_32  2021-12-03   s_128681   55.79   \n",
       "559350    c_4280   f  2004-01-01    2_62  2022-06-04   s_218592   60.96   \n",
       "597851    c_2898   f  1998-01-01   2_222  2021-11-20   s_122276  103.58   \n",
       "...          ...  ..         ...     ...         ...        ...     ...   \n",
       "438297    c_1619   f  2004-01-01   2_109  2021-07-09    s_59852   53.99   \n",
       "78471     c_5082   f  2001-01-01   2_208  2023-01-10   s_324711   54.87   \n",
       "437179    c_6887   f  2004-01-01   2_184  2021-11-19   s_122049   49.61   \n",
       "139258    c_5132   f  1992-01-01    2_26  2021-08-05    s_71656   42.51   \n",
       "554885    c_1179   m  2002-01-01   2_164  2021-11-14   s_119604   52.26   \n",
       "\n",
       "        categ  Year  month  day  age  \n",
       "259096      2  2022      4    8   23  \n",
       "640993      2  2022     10   18   24  \n",
       "511491      2  2021     12    3   24  \n",
       "559350      2  2022      6    4   18  \n",
       "597851      2  2021     11   20   24  \n",
       "...       ...   ...    ...  ...  ...  \n",
       "438297      2  2021      7    9   18  \n",
       "78471       2  2023      1   10   21  \n",
       "437179      2  2021     11   19   18  \n",
       "139258      2  2021      8    5   30  \n",
       "554885      2  2021     11   14   20  \n",
       "\n",
       "[100 rows x 12 columns]"
      ]
     },
     "execution_count": 105,
     "metadata": {},
     "output_type": "execute_result"
    }
   ],
   "source": [
    "df_subset_categ2 = df_B_to_C.loc[df_B_to_C['categ']==2]\n",
    "df_subset_categ2 =df_subset_categ2.sample(n=100)\n",
    "df_subset_categ2"
   ]
  },
  {
   "cell_type": "code",
   "execution_count": 106,
   "id": "b2aa116d",
   "metadata": {},
   "outputs": [
    {
     "data": {
      "text/html": [
       "<div>\n",
       "<style scoped>\n",
       "    .dataframe tbody tr th:only-of-type {\n",
       "        vertical-align: middle;\n",
       "    }\n",
       "\n",
       "    .dataframe tbody tr th {\n",
       "        vertical-align: top;\n",
       "    }\n",
       "\n",
       "    .dataframe thead th {\n",
       "        text-align: right;\n",
       "    }\n",
       "</style>\n",
       "<table border=\"1\" class=\"dataframe\">\n",
       "  <thead>\n",
       "    <tr style=\"text-align: right;\">\n",
       "      <th></th>\n",
       "      <th>client_id</th>\n",
       "      <th>sex</th>\n",
       "      <th>birth</th>\n",
       "      <th>id_prod</th>\n",
       "      <th>date</th>\n",
       "      <th>session_id</th>\n",
       "      <th>price</th>\n",
       "      <th>categ</th>\n",
       "      <th>Year</th>\n",
       "      <th>month</th>\n",
       "      <th>day</th>\n",
       "      <th>age</th>\n",
       "    </tr>\n",
       "  </thead>\n",
       "  <tbody>\n",
       "    <tr>\n",
       "      <th>16531</th>\n",
       "      <td>c_214</td>\n",
       "      <td>f</td>\n",
       "      <td>1960-01-01</td>\n",
       "      <td>0_1426</td>\n",
       "      <td>2022-12-02</td>\n",
       "      <td>s_305861</td>\n",
       "      <td>13.44</td>\n",
       "      <td>0</td>\n",
       "      <td>2022</td>\n",
       "      <td>12</td>\n",
       "      <td>2</td>\n",
       "      <td>62</td>\n",
       "    </tr>\n",
       "    <tr>\n",
       "      <th>92723</th>\n",
       "      <td>c_6909</td>\n",
       "      <td>m</td>\n",
       "      <td>1981-01-01</td>\n",
       "      <td>0_1505</td>\n",
       "      <td>2022-07-10</td>\n",
       "      <td>s_236169</td>\n",
       "      <td>14.99</td>\n",
       "      <td>0</td>\n",
       "      <td>2022</td>\n",
       "      <td>7</td>\n",
       "      <td>10</td>\n",
       "      <td>41</td>\n",
       "    </tr>\n",
       "    <tr>\n",
       "      <th>534543</th>\n",
       "      <td>c_3384</td>\n",
       "      <td>f</td>\n",
       "      <td>1973-01-01</td>\n",
       "      <td>0_1015</td>\n",
       "      <td>2022-10-19</td>\n",
       "      <td>s_284956</td>\n",
       "      <td>10.99</td>\n",
       "      <td>0</td>\n",
       "      <td>2022</td>\n",
       "      <td>10</td>\n",
       "      <td>19</td>\n",
       "      <td>49</td>\n",
       "    </tr>\n",
       "    <tr>\n",
       "      <th>152153</th>\n",
       "      <td>c_1609</td>\n",
       "      <td>m</td>\n",
       "      <td>1980-01-01</td>\n",
       "      <td>0_1623</td>\n",
       "      <td>2021-07-05</td>\n",
       "      <td>s_58284</td>\n",
       "      <td>7.99</td>\n",
       "      <td>0</td>\n",
       "      <td>2021</td>\n",
       "      <td>7</td>\n",
       "      <td>5</td>\n",
       "      <td>42</td>\n",
       "    </tr>\n",
       "    <tr>\n",
       "      <th>149867</th>\n",
       "      <td>c_247</td>\n",
       "      <td>m</td>\n",
       "      <td>1988-01-01</td>\n",
       "      <td>0_1621</td>\n",
       "      <td>2022-12-27</td>\n",
       "      <td>s_318264</td>\n",
       "      <td>17.99</td>\n",
       "      <td>0</td>\n",
       "      <td>2022</td>\n",
       "      <td>12</td>\n",
       "      <td>27</td>\n",
       "      <td>34</td>\n",
       "    </tr>\n",
       "    <tr>\n",
       "      <th>...</th>\n",
       "      <td>...</td>\n",
       "      <td>...</td>\n",
       "      <td>...</td>\n",
       "      <td>...</td>\n",
       "      <td>...</td>\n",
       "      <td>...</td>\n",
       "      <td>...</td>\n",
       "      <td>...</td>\n",
       "      <td>...</td>\n",
       "      <td>...</td>\n",
       "      <td>...</td>\n",
       "      <td>...</td>\n",
       "    </tr>\n",
       "    <tr>\n",
       "      <th>438297</th>\n",
       "      <td>c_1619</td>\n",
       "      <td>f</td>\n",
       "      <td>2004-01-01</td>\n",
       "      <td>2_109</td>\n",
       "      <td>2021-07-09</td>\n",
       "      <td>s_59852</td>\n",
       "      <td>53.99</td>\n",
       "      <td>2</td>\n",
       "      <td>2021</td>\n",
       "      <td>7</td>\n",
       "      <td>9</td>\n",
       "      <td>18</td>\n",
       "    </tr>\n",
       "    <tr>\n",
       "      <th>78471</th>\n",
       "      <td>c_5082</td>\n",
       "      <td>f</td>\n",
       "      <td>2001-01-01</td>\n",
       "      <td>2_208</td>\n",
       "      <td>2023-01-10</td>\n",
       "      <td>s_324711</td>\n",
       "      <td>54.87</td>\n",
       "      <td>2</td>\n",
       "      <td>2023</td>\n",
       "      <td>1</td>\n",
       "      <td>10</td>\n",
       "      <td>21</td>\n",
       "    </tr>\n",
       "    <tr>\n",
       "      <th>437179</th>\n",
       "      <td>c_6887</td>\n",
       "      <td>f</td>\n",
       "      <td>2004-01-01</td>\n",
       "      <td>2_184</td>\n",
       "      <td>2021-11-19</td>\n",
       "      <td>s_122049</td>\n",
       "      <td>49.61</td>\n",
       "      <td>2</td>\n",
       "      <td>2021</td>\n",
       "      <td>11</td>\n",
       "      <td>19</td>\n",
       "      <td>18</td>\n",
       "    </tr>\n",
       "    <tr>\n",
       "      <th>139258</th>\n",
       "      <td>c_5132</td>\n",
       "      <td>f</td>\n",
       "      <td>1992-01-01</td>\n",
       "      <td>2_26</td>\n",
       "      <td>2021-08-05</td>\n",
       "      <td>s_71656</td>\n",
       "      <td>42.51</td>\n",
       "      <td>2</td>\n",
       "      <td>2021</td>\n",
       "      <td>8</td>\n",
       "      <td>5</td>\n",
       "      <td>30</td>\n",
       "    </tr>\n",
       "    <tr>\n",
       "      <th>554885</th>\n",
       "      <td>c_1179</td>\n",
       "      <td>m</td>\n",
       "      <td>2002-01-01</td>\n",
       "      <td>2_164</td>\n",
       "      <td>2021-11-14</td>\n",
       "      <td>s_119604</td>\n",
       "      <td>52.26</td>\n",
       "      <td>2</td>\n",
       "      <td>2021</td>\n",
       "      <td>11</td>\n",
       "      <td>14</td>\n",
       "      <td>20</td>\n",
       "    </tr>\n",
       "  </tbody>\n",
       "</table>\n",
       "<p>300 rows × 12 columns</p>\n",
       "</div>"
      ],
      "text/plain": [
       "       client_id sex       birth id_prod        date session_id  price  categ  \\\n",
       "16531      c_214   f  1960-01-01  0_1426  2022-12-02   s_305861  13.44      0   \n",
       "92723     c_6909   m  1981-01-01  0_1505  2022-07-10   s_236169  14.99      0   \n",
       "534543    c_3384   f  1973-01-01  0_1015  2022-10-19   s_284956  10.99      0   \n",
       "152153    c_1609   m  1980-01-01  0_1623  2021-07-05    s_58284   7.99      0   \n",
       "149867     c_247   m  1988-01-01  0_1621  2022-12-27   s_318264  17.99      0   \n",
       "...          ...  ..         ...     ...         ...        ...    ...    ...   \n",
       "438297    c_1619   f  2004-01-01   2_109  2021-07-09    s_59852  53.99      2   \n",
       "78471     c_5082   f  2001-01-01   2_208  2023-01-10   s_324711  54.87      2   \n",
       "437179    c_6887   f  2004-01-01   2_184  2021-11-19   s_122049  49.61      2   \n",
       "139258    c_5132   f  1992-01-01    2_26  2021-08-05    s_71656  42.51      2   \n",
       "554885    c_1179   m  2002-01-01   2_164  2021-11-14   s_119604  52.26      2   \n",
       "\n",
       "        Year  month  day  age  \n",
       "16531   2022     12    2   62  \n",
       "92723   2022      7   10   41  \n",
       "534543  2022     10   19   49  \n",
       "152153  2021      7    5   42  \n",
       "149867  2022     12   27   34  \n",
       "...      ...    ...  ...  ...  \n",
       "438297  2021      7    9   18  \n",
       "78471   2023      1   10   21  \n",
       "437179  2021     11   19   18  \n",
       "139258  2021      8    5   30  \n",
       "554885  2021     11   14   20  \n",
       "\n",
       "[300 rows x 12 columns]"
      ]
     },
     "execution_count": 106,
     "metadata": {},
     "output_type": "execute_result"
    }
   ],
   "source": [
    "df_subset = pd.concat([df_subset_categ0, df_subset_categ1,df_subset_categ2])\n",
    "df_subset"
   ]
  },
  {
   "cell_type": "markdown",
   "id": "d9b4fb04",
   "metadata": {},
   "source": [
    "### 5- Définir les hypothèses :\n",
    "hypothèse nulle : il n'y a pas de différence entre les trois groupes (les distributions suivent la même loi normale c'est à dire toutes les moyennes sont égales)<br> \n",
    "hypothèse alternative : il y a différence entre au moins deux groupes (il existe au moins une distribution dont la moyenne s'écarte des autres moyennes)<br>\n"
   ]
  },
  {
   "cell_type": "markdown",
   "id": "d56dd21b",
   "metadata": {},
   "source": [
    "### 6- ONE-WAY ANOVA "
   ]
  },
  {
   "cell_type": "markdown",
   "id": "b26dd4fe",
   "metadata": {},
   "source": [
    "Cette méthode effectue une ANOVA unidirectionnelle en deux étapes :\n",
    "\n",
    "Ajuster le modèle à l'aide d'une méthode d'estimation.\n",
    "La méthode d'estimation par défaut dans la plupart des progiciels statistiques est celle des moindres carrés ordinaires\n",
    "\n",
    "Passer le modèle ajusté dans la méthode ANOVA pour produire une table ANOVA\n"
   ]
  },
  {
   "cell_type": "code",
   "execution_count": 107,
   "id": "b0f8095e",
   "metadata": {},
   "outputs": [
    {
     "data": {
      "text/html": [
       "<div>\n",
       "<style scoped>\n",
       "    .dataframe tbody tr th:only-of-type {\n",
       "        vertical-align: middle;\n",
       "    }\n",
       "\n",
       "    .dataframe tbody tr th {\n",
       "        vertical-align: top;\n",
       "    }\n",
       "\n",
       "    .dataframe thead th {\n",
       "        text-align: right;\n",
       "    }\n",
       "</style>\n",
       "<table border=\"1\" class=\"dataframe\">\n",
       "  <thead>\n",
       "    <tr style=\"text-align: right;\">\n",
       "      <th></th>\n",
       "      <th>sum_sq</th>\n",
       "      <th>df</th>\n",
       "      <th>F</th>\n",
       "      <th>PR(&gt;F)</th>\n",
       "    </tr>\n",
       "  </thead>\n",
       "  <tbody>\n",
       "    <tr>\n",
       "      <th>C(categ)</th>\n",
       "      <td>29929.38</td>\n",
       "      <td>2.0</td>\n",
       "      <td>98.00664</td>\n",
       "      <td>2.064562e-33</td>\n",
       "    </tr>\n",
       "    <tr>\n",
       "      <th>Residual</th>\n",
       "      <td>45349.10</td>\n",
       "      <td>297.0</td>\n",
       "      <td>NaN</td>\n",
       "      <td>NaN</td>\n",
       "    </tr>\n",
       "  </tbody>\n",
       "</table>\n",
       "</div>"
      ],
      "text/plain": [
       "            sum_sq     df         F        PR(>F)\n",
       "C(categ)  29929.38    2.0  98.00664  2.064562e-33\n",
       "Residual  45349.10  297.0       NaN           NaN"
      ]
     },
     "execution_count": 107,
     "metadata": {},
     "output_type": "execute_result"
    }
   ],
   "source": [
    "import statsmodels.api as sm\n",
    "from statsmodels.formula.api import ols\n",
    "\n",
    "model = ols('age ~ C(categ)', data = df_subset).fit()\n",
    "aov_table = sm.stats.anova_lm(model, typ=2)\n",
    "aov_table"
   ]
  },
  {
   "cell_type": "markdown",
   "id": "92b62f7b",
   "metadata": {},
   "source": [
    "F = 78.989453 >> 1 la variabilité entre les moyens de groupe est plus grande que la variabilité des observations à l’intérieur des groupes.\n",
    "Il existe une différence statistiquement significative entre les groupes p-value = 3.109069e-28 << 0.05\n",
    "\n"
   ]
  },
  {
   "cell_type": "markdown",
   "id": "fa5b4063",
   "metadata": {},
   "source": [
    "### 7- Vérification des hypothèses \n",
    "Les hypothèses doivent être satisfaites pour que les résultats des tests soient considérés comme valides.\n",
    "\n",
    "INDÉPENDANCE<br> \n",
    "Cette hypothèse signifie que tous les groupes sont mutuellement exclusifs, c'est-à-dire qu'un individu ne peut appartenir qu'à un seul groupe. <br> \n",
    "NORMALITÉ<br> \n",
    "L'hypothèse de normalité est testée sur les résidus du modèle lorsqu'il provient d'un cadre d'ANOVA ou de régression. Une méthode pour tester l'hypothèse de normalité est le test de Shapiro-Wilk. Cela peut être complété en utilisant la méthode shapiro() de scipy.stats.<br>\n",
    "HOMOCEDASTICITE<br>\n",
    "Ce terme signifie « égalité des variances des sous-populations ». La variance est une statistique de variabilité et de dispersion, et augmente d'autant plus la variabilité ou la dispersion des scores.\n",
    "L'hypothèse d'homoscédasticité est vérifiée à l'aide du test de Levene ou de Bartlett."
   ]
  },
  {
   "cell_type": "code",
   "execution_count": 108,
   "id": "57ee701d",
   "metadata": {},
   "outputs": [
    {
     "data": {
      "text/plain": [
       "ShapiroResult(statistic=0.9573966860771179, pvalue=1.1242668307431813e-07)"
      ]
     },
     "execution_count": 108,
     "metadata": {},
     "output_type": "execute_result"
    }
   ],
   "source": [
    "#hypothèse nulle : La distribution des résidus est normale\n",
    "#hypothèse alternative : les résidus ne sont pas distribués normalement.\n",
    "\n",
    "import scipy.stats as stats\n",
    "\n",
    "stats.shapiro(model.resid)"
   ]
  },
  {
   "cell_type": "markdown",
   "id": "432b8888",
   "metadata": {},
   "source": [
    ", W= 0.9636, p= 1.7e-07, la distribution des résidus n'est pas normale."
   ]
  },
  {
   "cell_type": "markdown",
   "id": "a5ac1360",
   "metadata": {},
   "source": [
    "Une autre façon de tester l'hypothèse consiste à effectuer une vérification visuelle, ce qui est utile lorsque l'échantillon est important.\n"
   ]
  },
  {
   "cell_type": "code",
   "execution_count": 109,
   "id": "fd1fc312",
   "metadata": {},
   "outputs": [
    {
     "data": {
      "image/png": "[encoded data removed]",
      "text/plain": [
       "<Figure size 720x720 with 1 Axes>"
      ]
     },
     "metadata": {
      "needs_background": "light"
     },
     "output_type": "display_data"
    }
   ],
   "source": [
    "import matplotlib.pyplot as plt\n",
    "\n",
    "fig = plt.figure(figsize= (10, 10))\n",
    "ax = fig.add_subplot(111)\n",
    "\n",
    "normality_plot, stat = stats.probplot(model.resid, plot= plt, rvalue= True)\n",
    "ax.set_title(\"Probability plot of model residual's\", fontsize= 20)\n",
    "ax.set\n",
    "\n",
    "plt.show()"
   ]
  },
  {
   "cell_type": "code",
   "execution_count": 110,
   "id": "2dd6f279",
   "metadata": {},
   "outputs": [
    {
     "data": {
      "text/plain": [
       "True"
      ]
     },
     "execution_count": 110,
     "metadata": {},
     "output_type": "execute_result"
    }
   ],
   "source": [
    "#Critical values of the normal PPCC for testing if data come from a normal distribution\n",
    ">>> import webbrowser\n",
    ">>> webbrowser.open('https://www.itl.nist.gov/div898/handbook/eda/section3/eda3676.htm')\n",
    "True"
   ]
  },
  {
   "cell_type": "markdown",
   "id": "6deb7a9b",
   "metadata": {},
   "source": [
    " <div class=\"alert alert-block alert-info\">\n",
    "Le coefficient de corrélation du diagramme de probabilité (PPCC) indiquait la non-normalité. Étant donné que la taille de l’échantillon N = 300, le PPCC calculé, = 0,9557, est plus petit que le PPC du tableau, =0.9952.<br> \n",
    "Le QQplot met en évidence un défaut de normalité, tout comme le test de Shapiro Wilk qui rejette l'hypothèse de normalité (la pvalue est < 0.05).<br> \n",
    "Il est évident d’affirmer que cette hypothèse n'est pas remplie.\n",
    "    \n",
    "</div>\n"
   ]
  },
  {
   "cell_type": "markdown",
   "id": "1e697818",
   "metadata": {},
   "source": [
    "### 8- L'ANOVA non paramétrique (test de Kruskal Wallis)"
   ]
  },
  {
   "cell_type": "code",
   "execution_count": 111,
   "id": "2691e1b8",
   "metadata": {},
   "outputs": [
    {
     "data": {
      "text/plain": [
       "KruskalResult(statistic=7.986589681504939, pvalue=0.018438860813856255)"
      ]
     },
     "execution_count": 111,
     "metadata": {},
     "output_type": "execute_result"
    }
   ],
   "source": [
    "group1 = df_subset_categ0['age'].sample(7)\n",
    "group2 = df_subset_categ1['age'].sample(7)\n",
    "group3 = df_subset_categ2['age'].sample(7)\n",
    "#perform Kruskal-Wallis Test \n",
    "stats.kruskal(group1, group2, group3)\n"
   ]
  },
  {
   "cell_type": "markdown",
   "id": "b7bbecfd",
   "metadata": {},
   "source": [
    "### Critical Values of the Kruskal-Wallis H Distribution"
   ]
  },
  {
   "cell_type": "markdown",
   "id": "62f9596b",
   "metadata": {},
   "source": [
    "<div style=\"float:left;\"><img src=\"files/Kruskal_Wallis.png\" alt=\"alt text\" title=\"image Title\" width=\"500\"/></div>"
   ]
  },
  {
   "cell_type": "markdown",
   "id": "26438e41",
   "metadata": {},
   "source": [
    " <div class=\"alert alert-block alert-info\">\n",
    "statistic=11.672564723412192 >> 5.819.<br>\n",
    "La pvalue du test étant inférieure à 0.05, l’hypothèse de l’égalité des moyennes est rejetée. On conclut donc que les moyennes des trois groupes sont globalement différentes.<br>\n",
    "Ainsi les variables 'categ' et 'age' ne sont pas independantes.<br>    \n",
    "</div>\n"
   ]
  },
  {
   "cell_type": "markdown",
   "id": "decba87a",
   "metadata": {},
   "source": [
    "### <a name=\"C14\">4.Le lien entre l’âge des clients et la taille du panier moyen </a>"
   ]
  },
  {
   "cell_type": "markdown",
   "id": "e6d5f5c6",
   "metadata": {},
   "source": [
    " Le calcul du panier moyen peut être effectué sur plusieurs périodes, à savoir une journée, une semaine, un mois ou même une année.<br>\n",
    "Le panier moyen d’un point de vente se calcule sur la base de la formule suivante :<br>\n",
    " <b>Chiffre d’affaires/Nombre de clients sur une période donnée.</b><br>\n",
    "Le panier moyen peut être calculé pour un consommateur, mais également pour une catégorie de consommateurs (genre, tranche d’âge, catégorie socioprofessionnelle…). "
   ]
  },
  {
   "cell_type": "markdown",
   "id": "3589a783",
   "metadata": {},
   "source": [
    "### 1.Calcul du panier moyen mensuel :"
   ]
  },
  {
   "cell_type": "markdown",
   "id": "36ea1955",
   "metadata": {},
   "source": [
    "##### 1.1 Méthode(1)"
   ]
  },
  {
   "cell_type": "code",
   "execution_count": 112,
   "id": "5038f3e2",
   "metadata": {},
   "outputs": [
    {
     "data": {
      "text/html": [
       "<div>\n",
       "<style scoped>\n",
       "    .dataframe tbody tr th:only-of-type {\n",
       "        vertical-align: middle;\n",
       "    }\n",
       "\n",
       "    .dataframe tbody tr th {\n",
       "        vertical-align: top;\n",
       "    }\n",
       "\n",
       "    .dataframe thead th {\n",
       "        text-align: right;\n",
       "    }\n",
       "</style>\n",
       "<table border=\"1\" class=\"dataframe\">\n",
       "  <thead>\n",
       "    <tr style=\"text-align: right;\">\n",
       "      <th></th>\n",
       "      <th>age</th>\n",
       "      <th>month</th>\n",
       "      <th>Year</th>\n",
       "      <th>panier_moyen</th>\n",
       "    </tr>\n",
       "  </thead>\n",
       "  <tbody>\n",
       "    <tr>\n",
       "      <th>0</th>\n",
       "      <td>18</td>\n",
       "      <td>1</td>\n",
       "      <td>2022</td>\n",
       "      <td>36.007108</td>\n",
       "    </tr>\n",
       "    <tr>\n",
       "      <th>1</th>\n",
       "      <td>18</td>\n",
       "      <td>1</td>\n",
       "      <td>2023</td>\n",
       "      <td>43.520813</td>\n",
       "    </tr>\n",
       "    <tr>\n",
       "      <th>2</th>\n",
       "      <td>18</td>\n",
       "      <td>2</td>\n",
       "      <td>2022</td>\n",
       "      <td>41.083685</td>\n",
       "    </tr>\n",
       "    <tr>\n",
       "      <th>3</th>\n",
       "      <td>18</td>\n",
       "      <td>2</td>\n",
       "      <td>2023</td>\n",
       "      <td>38.710332</td>\n",
       "    </tr>\n",
       "    <tr>\n",
       "      <th>4</th>\n",
       "      <td>18</td>\n",
       "      <td>3</td>\n",
       "      <td>2021</td>\n",
       "      <td>37.236376</td>\n",
       "    </tr>\n",
       "    <tr>\n",
       "      <th>...</th>\n",
       "      <td>...</td>\n",
       "      <td>...</td>\n",
       "      <td>...</td>\n",
       "      <td>...</td>\n",
       "    </tr>\n",
       "    <tr>\n",
       "      <th>1819</th>\n",
       "      <td>93</td>\n",
       "      <td>10</td>\n",
       "      <td>2022</td>\n",
       "      <td>20.711000</td>\n",
       "    </tr>\n",
       "    <tr>\n",
       "      <th>1820</th>\n",
       "      <td>93</td>\n",
       "      <td>11</td>\n",
       "      <td>2021</td>\n",
       "      <td>13.202500</td>\n",
       "    </tr>\n",
       "    <tr>\n",
       "      <th>1821</th>\n",
       "      <td>93</td>\n",
       "      <td>11</td>\n",
       "      <td>2022</td>\n",
       "      <td>12.924000</td>\n",
       "    </tr>\n",
       "    <tr>\n",
       "      <th>1822</th>\n",
       "      <td>93</td>\n",
       "      <td>12</td>\n",
       "      <td>2021</td>\n",
       "      <td>16.790000</td>\n",
       "    </tr>\n",
       "    <tr>\n",
       "      <th>1823</th>\n",
       "      <td>93</td>\n",
       "      <td>12</td>\n",
       "      <td>2022</td>\n",
       "      <td>18.619231</td>\n",
       "    </tr>\n",
       "  </tbody>\n",
       "</table>\n",
       "<p>1824 rows × 4 columns</p>\n",
       "</div>"
      ],
      "text/plain": [
       "      age  month  Year  panier_moyen\n",
       "0      18      1  2022     36.007108\n",
       "1      18      1  2023     43.520813\n",
       "2      18      2  2022     41.083685\n",
       "3      18      2  2023     38.710332\n",
       "4      18      3  2021     37.236376\n",
       "...   ...    ...   ...           ...\n",
       "1819   93     10  2022     20.711000\n",
       "1820   93     11  2021     13.202500\n",
       "1821   93     11  2022     12.924000\n",
       "1822   93     12  2021     16.790000\n",
       "1823   93     12  2022     18.619231\n",
       "\n",
       "[1824 rows x 4 columns]"
      ]
     },
     "execution_count": 112,
     "metadata": {},
     "output_type": "execute_result"
    }
   ],
   "source": [
    "age_mean = df_B_to_C.groupby(['age','month','Year'])['price'].mean()\n",
    "age_mean =age_mean.reset_index().rename(columns = {'price':'panier_moyen'})\n",
    "age_mean"
   ]
  },
  {
   "cell_type": "code",
   "execution_count": 113,
   "id": "009ba94c",
   "metadata": {},
   "outputs": [
    {
     "data": {
      "image/png": "[encoded data removed]",
      "text/plain": [
       "<Figure size 432x288 with 1 Axes>"
      ]
     },
     "metadata": {
      "needs_background": "light"
     },
     "output_type": "display_data"
    }
   ],
   "source": [
    "# Le diagramme de dispersion\n",
    "plt.plot(age_mean[\"age\"],age_mean[\"panier_moyen\"],'o')\n",
    "plt.xlabel(\"age\")\n",
    "plt.ylabel(\"panier_mensuel par age\")\n",
    "plt.show()"
   ]
  },
  {
   "cell_type": "markdown",
   "id": "ed2e6d7c",
   "metadata": {},
   "source": [
    "##### 1.2 Méthode(2)"
   ]
  },
  {
   "cell_type": "code",
   "execution_count": 114,
   "id": "a88bf868",
   "metadata": {},
   "outputs": [
    {
     "data": {
      "text/html": [
       "<div>\n",
       "<style scoped>\n",
       "    .dataframe tbody tr th:only-of-type {\n",
       "        vertical-align: middle;\n",
       "    }\n",
       "\n",
       "    .dataframe tbody tr th {\n",
       "        vertical-align: top;\n",
       "    }\n",
       "\n",
       "    .dataframe thead th {\n",
       "        text-align: right;\n",
       "    }\n",
       "</style>\n",
       "<table border=\"1\" class=\"dataframe\">\n",
       "  <thead>\n",
       "    <tr style=\"text-align: right;\">\n",
       "      <th></th>\n",
       "      <th>month</th>\n",
       "      <th>Year</th>\n",
       "      <th>age</th>\n",
       "      <th>nb_client</th>\n",
       "    </tr>\n",
       "  </thead>\n",
       "  <tbody>\n",
       "    <tr>\n",
       "      <th>0</th>\n",
       "      <td>1</td>\n",
       "      <td>2022</td>\n",
       "      <td>18</td>\n",
       "      <td>695</td>\n",
       "    </tr>\n",
       "    <tr>\n",
       "      <th>1</th>\n",
       "      <td>1</td>\n",
       "      <td>2022</td>\n",
       "      <td>19</td>\n",
       "      <td>191</td>\n",
       "    </tr>\n",
       "    <tr>\n",
       "      <th>2</th>\n",
       "      <td>1</td>\n",
       "      <td>2022</td>\n",
       "      <td>20</td>\n",
       "      <td>182</td>\n",
       "    </tr>\n",
       "    <tr>\n",
       "      <th>3</th>\n",
       "      <td>1</td>\n",
       "      <td>2022</td>\n",
       "      <td>21</td>\n",
       "      <td>177</td>\n",
       "    </tr>\n",
       "    <tr>\n",
       "      <th>4</th>\n",
       "      <td>1</td>\n",
       "      <td>2022</td>\n",
       "      <td>22</td>\n",
       "      <td>226</td>\n",
       "    </tr>\n",
       "    <tr>\n",
       "      <th>...</th>\n",
       "      <td>...</td>\n",
       "      <td>...</td>\n",
       "      <td>...</td>\n",
       "      <td>...</td>\n",
       "    </tr>\n",
       "    <tr>\n",
       "      <th>1819</th>\n",
       "      <td>12</td>\n",
       "      <td>2022</td>\n",
       "      <td>89</td>\n",
       "      <td>21</td>\n",
       "    </tr>\n",
       "    <tr>\n",
       "      <th>1820</th>\n",
       "      <td>12</td>\n",
       "      <td>2022</td>\n",
       "      <td>90</td>\n",
       "      <td>10</td>\n",
       "    </tr>\n",
       "    <tr>\n",
       "      <th>1821</th>\n",
       "      <td>12</td>\n",
       "      <td>2022</td>\n",
       "      <td>91</td>\n",
       "      <td>8</td>\n",
       "    </tr>\n",
       "    <tr>\n",
       "      <th>1822</th>\n",
       "      <td>12</td>\n",
       "      <td>2022</td>\n",
       "      <td>92</td>\n",
       "      <td>13</td>\n",
       "    </tr>\n",
       "    <tr>\n",
       "      <th>1823</th>\n",
       "      <td>12</td>\n",
       "      <td>2022</td>\n",
       "      <td>93</td>\n",
       "      <td>13</td>\n",
       "    </tr>\n",
       "  </tbody>\n",
       "</table>\n",
       "<p>1824 rows × 4 columns</p>\n",
       "</div>"
      ],
      "text/plain": [
       "      month  Year  age  nb_client\n",
       "0         1  2022   18        695\n",
       "1         1  2022   19        191\n",
       "2         1  2022   20        182\n",
       "3         1  2022   21        177\n",
       "4         1  2022   22        226\n",
       "...     ...   ...  ...        ...\n",
       "1819     12  2022   89         21\n",
       "1820     12  2022   90         10\n",
       "1821     12  2022   91          8\n",
       "1822     12  2022   92         13\n",
       "1823     12  2022   93         13\n",
       "\n",
       "[1824 rows x 4 columns]"
      ]
     },
     "execution_count": 114,
     "metadata": {},
     "output_type": "execute_result"
    }
   ],
   "source": [
    "# Scission des données:\n",
    "nombre_client = df_B_to_C .groupby(['month','Year','age'])\n",
    "# Clacul du nombre des clients par Year, month et age\n",
    "nombre_client = nombre_client['client_id'].agg([pd.Series.count])\n",
    "nombre_client = nombre_client.reset_index().rename(columns = {'count':'nb_client'})\n",
    "nombre_client"
   ]
  },
  {
   "cell_type": "code",
   "execution_count": 115,
   "id": "1a98eca3",
   "metadata": {},
   "outputs": [
    {
     "data": {
      "text/html": [
       "<div>\n",
       "<style scoped>\n",
       "    .dataframe tbody tr th:only-of-type {\n",
       "        vertical-align: middle;\n",
       "    }\n",
       "\n",
       "    .dataframe tbody tr th {\n",
       "        vertical-align: top;\n",
       "    }\n",
       "\n",
       "    .dataframe thead th {\n",
       "        text-align: right;\n",
       "    }\n",
       "</style>\n",
       "<table border=\"1\" class=\"dataframe\">\n",
       "  <thead>\n",
       "    <tr style=\"text-align: right;\">\n",
       "      <th></th>\n",
       "      <th>month</th>\n",
       "      <th>Year</th>\n",
       "      <th>age</th>\n",
       "      <th>CA</th>\n",
       "    </tr>\n",
       "  </thead>\n",
       "  <tbody>\n",
       "    <tr>\n",
       "      <th>0</th>\n",
       "      <td>1</td>\n",
       "      <td>2022</td>\n",
       "      <td>18</td>\n",
       "      <td>25024.94</td>\n",
       "    </tr>\n",
       "    <tr>\n",
       "      <th>1</th>\n",
       "      <td>1</td>\n",
       "      <td>2022</td>\n",
       "      <td>19</td>\n",
       "      <td>7235.17</td>\n",
       "    </tr>\n",
       "    <tr>\n",
       "      <th>2</th>\n",
       "      <td>1</td>\n",
       "      <td>2022</td>\n",
       "      <td>20</td>\n",
       "      <td>6901.84</td>\n",
       "    </tr>\n",
       "    <tr>\n",
       "      <th>3</th>\n",
       "      <td>1</td>\n",
       "      <td>2022</td>\n",
       "      <td>21</td>\n",
       "      <td>7047.95</td>\n",
       "    </tr>\n",
       "    <tr>\n",
       "      <th>4</th>\n",
       "      <td>1</td>\n",
       "      <td>2022</td>\n",
       "      <td>22</td>\n",
       "      <td>7842.64</td>\n",
       "    </tr>\n",
       "    <tr>\n",
       "      <th>...</th>\n",
       "      <td>...</td>\n",
       "      <td>...</td>\n",
       "      <td>...</td>\n",
       "      <td>...</td>\n",
       "    </tr>\n",
       "    <tr>\n",
       "      <th>1819</th>\n",
       "      <td>12</td>\n",
       "      <td>2022</td>\n",
       "      <td>89</td>\n",
       "      <td>346.85</td>\n",
       "    </tr>\n",
       "    <tr>\n",
       "      <th>1820</th>\n",
       "      <td>12</td>\n",
       "      <td>2022</td>\n",
       "      <td>90</td>\n",
       "      <td>127.53</td>\n",
       "    </tr>\n",
       "    <tr>\n",
       "      <th>1821</th>\n",
       "      <td>12</td>\n",
       "      <td>2022</td>\n",
       "      <td>91</td>\n",
       "      <td>140.97</td>\n",
       "    </tr>\n",
       "    <tr>\n",
       "      <th>1822</th>\n",
       "      <td>12</td>\n",
       "      <td>2022</td>\n",
       "      <td>92</td>\n",
       "      <td>247.97</td>\n",
       "    </tr>\n",
       "    <tr>\n",
       "      <th>1823</th>\n",
       "      <td>12</td>\n",
       "      <td>2022</td>\n",
       "      <td>93</td>\n",
       "      <td>242.05</td>\n",
       "    </tr>\n",
       "  </tbody>\n",
       "</table>\n",
       "<p>1824 rows × 4 columns</p>\n",
       "</div>"
      ],
      "text/plain": [
       "      month  Year  age        CA\n",
       "0         1  2022   18  25024.94\n",
       "1         1  2022   19   7235.17\n",
       "2         1  2022   20   6901.84\n",
       "3         1  2022   21   7047.95\n",
       "4         1  2022   22   7842.64\n",
       "...     ...   ...  ...       ...\n",
       "1819     12  2022   89    346.85\n",
       "1820     12  2022   90    127.53\n",
       "1821     12  2022   91    140.97\n",
       "1822     12  2022   92    247.97\n",
       "1823     12  2022   93    242.05\n",
       "\n",
       "[1824 rows x 4 columns]"
      ]
     },
     "execution_count": 115,
     "metadata": {},
     "output_type": "execute_result"
    }
   ],
   "source": [
    "# Scission des données:\n",
    "CA_month = df_B_to_C .groupby(['month','Year','age'])\n",
    "# Chiffre d'affaires par Year,month et age\n",
    "CA_month = CA_month['price'].agg([pd.Series.sum])\n",
    "CA_month = CA_month.reset_index().rename(columns = {'sum':'CA'})\n",
    "CA_month"
   ]
  },
  {
   "cell_type": "code",
   "execution_count": 116,
   "id": "6541550a",
   "metadata": {},
   "outputs": [
    {
     "data": {
      "text/html": [
       "<div>\n",
       "<style scoped>\n",
       "    .dataframe tbody tr th:only-of-type {\n",
       "        vertical-align: middle;\n",
       "    }\n",
       "\n",
       "    .dataframe tbody tr th {\n",
       "        vertical-align: top;\n",
       "    }\n",
       "\n",
       "    .dataframe thead th {\n",
       "        text-align: right;\n",
       "    }\n",
       "</style>\n",
       "<table border=\"1\" class=\"dataframe\">\n",
       "  <thead>\n",
       "    <tr style=\"text-align: right;\">\n",
       "      <th></th>\n",
       "      <th>month</th>\n",
       "      <th>Year</th>\n",
       "      <th>age</th>\n",
       "      <th>CA</th>\n",
       "      <th>nb_client</th>\n",
       "      <th>panier_mensuel</th>\n",
       "    </tr>\n",
       "  </thead>\n",
       "  <tbody>\n",
       "    <tr>\n",
       "      <th>0</th>\n",
       "      <td>1</td>\n",
       "      <td>2022</td>\n",
       "      <td>18</td>\n",
       "      <td>25024.94</td>\n",
       "      <td>695</td>\n",
       "      <td>36.007108</td>\n",
       "    </tr>\n",
       "    <tr>\n",
       "      <th>1</th>\n",
       "      <td>1</td>\n",
       "      <td>2022</td>\n",
       "      <td>19</td>\n",
       "      <td>7235.17</td>\n",
       "      <td>191</td>\n",
       "      <td>37.880471</td>\n",
       "    </tr>\n",
       "    <tr>\n",
       "      <th>2</th>\n",
       "      <td>1</td>\n",
       "      <td>2022</td>\n",
       "      <td>20</td>\n",
       "      <td>6901.84</td>\n",
       "      <td>182</td>\n",
       "      <td>37.922198</td>\n",
       "    </tr>\n",
       "    <tr>\n",
       "      <th>3</th>\n",
       "      <td>1</td>\n",
       "      <td>2022</td>\n",
       "      <td>21</td>\n",
       "      <td>7047.95</td>\n",
       "      <td>177</td>\n",
       "      <td>39.818927</td>\n",
       "    </tr>\n",
       "    <tr>\n",
       "      <th>4</th>\n",
       "      <td>1</td>\n",
       "      <td>2022</td>\n",
       "      <td>22</td>\n",
       "      <td>7842.64</td>\n",
       "      <td>226</td>\n",
       "      <td>34.701947</td>\n",
       "    </tr>\n",
       "    <tr>\n",
       "      <th>...</th>\n",
       "      <td>...</td>\n",
       "      <td>...</td>\n",
       "      <td>...</td>\n",
       "      <td>...</td>\n",
       "      <td>...</td>\n",
       "      <td>...</td>\n",
       "    </tr>\n",
       "    <tr>\n",
       "      <th>1819</th>\n",
       "      <td>12</td>\n",
       "      <td>2022</td>\n",
       "      <td>89</td>\n",
       "      <td>346.85</td>\n",
       "      <td>21</td>\n",
       "      <td>16.516667</td>\n",
       "    </tr>\n",
       "    <tr>\n",
       "      <th>1820</th>\n",
       "      <td>12</td>\n",
       "      <td>2022</td>\n",
       "      <td>90</td>\n",
       "      <td>127.53</td>\n",
       "      <td>10</td>\n",
       "      <td>12.753000</td>\n",
       "    </tr>\n",
       "    <tr>\n",
       "      <th>1821</th>\n",
       "      <td>12</td>\n",
       "      <td>2022</td>\n",
       "      <td>91</td>\n",
       "      <td>140.97</td>\n",
       "      <td>8</td>\n",
       "      <td>17.621250</td>\n",
       "    </tr>\n",
       "    <tr>\n",
       "      <th>1822</th>\n",
       "      <td>12</td>\n",
       "      <td>2022</td>\n",
       "      <td>92</td>\n",
       "      <td>247.97</td>\n",
       "      <td>13</td>\n",
       "      <td>19.074615</td>\n",
       "    </tr>\n",
       "    <tr>\n",
       "      <th>1823</th>\n",
       "      <td>12</td>\n",
       "      <td>2022</td>\n",
       "      <td>93</td>\n",
       "      <td>242.05</td>\n",
       "      <td>13</td>\n",
       "      <td>18.619231</td>\n",
       "    </tr>\n",
       "  </tbody>\n",
       "</table>\n",
       "<p>1824 rows × 6 columns</p>\n",
       "</div>"
      ],
      "text/plain": [
       "      month  Year  age        CA  nb_client  panier_mensuel\n",
       "0         1  2022   18  25024.94        695       36.007108\n",
       "1         1  2022   19   7235.17        191       37.880471\n",
       "2         1  2022   20   6901.84        182       37.922198\n",
       "3         1  2022   21   7047.95        177       39.818927\n",
       "4         1  2022   22   7842.64        226       34.701947\n",
       "...     ...   ...  ...       ...        ...             ...\n",
       "1819     12  2022   89    346.85         21       16.516667\n",
       "1820     12  2022   90    127.53         10       12.753000\n",
       "1821     12  2022   91    140.97          8       17.621250\n",
       "1822     12  2022   92    247.97         13       19.074615\n",
       "1823     12  2022   93    242.05         13       18.619231\n",
       "\n",
       "[1824 rows x 6 columns]"
      ]
     },
     "execution_count": 116,
     "metadata": {},
     "output_type": "execute_result"
    }
   ],
   "source": [
    "# Jointure interne\n",
    "df_panier_moyen = pd.merge(CA_month, nombre_client, on = ['month', 'Year','age'], how = 'inner')\n",
    "# Ajouter une colonne panier_mensuel\n",
    "df_panier_moyen['panier_mensuel'] = df_panier_moyen['CA'] / df_panier_moyen['nb_client']\n",
    "# Affichage\n",
    "df_panier_moyen"
   ]
  },
  {
   "cell_type": "code",
   "execution_count": 117,
   "id": "9b97e47b",
   "metadata": {},
   "outputs": [
    {
     "data": {
      "image/png": "[encoded data removed]",
      "text/plain": [
       "<Figure size 432x288 with 1 Axes>"
      ]
     },
     "metadata": {
      "needs_background": "light"
     },
     "output_type": "display_data"
    }
   ],
   "source": [
    "# Le diagramme de dispersion\n",
    "plt.plot(df_panier_moyen[\"age\"],df_panier_moyen[\"panier_mensuel\"],'o')\n",
    "plt.xlabel(\"age\")\n",
    "plt.ylabel(\"panier_mensuel par age\")\n",
    "plt.show()"
   ]
  },
  {
   "cell_type": "markdown",
   "id": "ffc32595",
   "metadata": {},
   "source": [
    "On constate qu'on a une relation de variation en escalier ou par paliers(le panier_mensuel varie de façon constante par morceaux). Il s’agit donc d’une combinaison de relations de variation nulle et d’une relation qui caractérise les créneaux (les sauts entre les paliers).\n",
    "On va étudier la variation du panier_mensuel en fonction de trois tranches d'âge (jeune, adultes et agees).\n"
   ]
  },
  {
   "cell_type": "markdown",
   "id": "4308bd30",
   "metadata": {},
   "source": [
    "### 2-Visualisation de l'influence en affichant les boîtes à moustaches "
   ]
  },
  {
   "cell_type": "code",
   "execution_count": 118,
   "id": "db034bda",
   "metadata": {},
   "outputs": [
    {
     "data": {
      "text/html": [
       "<div>\n",
       "<style scoped>\n",
       "    .dataframe tbody tr th:only-of-type {\n",
       "        vertical-align: middle;\n",
       "    }\n",
       "\n",
       "    .dataframe tbody tr th {\n",
       "        vertical-align: top;\n",
       "    }\n",
       "\n",
       "    .dataframe thead th {\n",
       "        text-align: right;\n",
       "    }\n",
       "</style>\n",
       "<table border=\"1\" class=\"dataframe\">\n",
       "  <thead>\n",
       "    <tr style=\"text-align: right;\">\n",
       "      <th></th>\n",
       "      <th>month</th>\n",
       "      <th>Year</th>\n",
       "      <th>age</th>\n",
       "      <th>CA</th>\n",
       "      <th>nb_client</th>\n",
       "      <th>panier_mensuel</th>\n",
       "      <th>tranche_age</th>\n",
       "    </tr>\n",
       "  </thead>\n",
       "  <tbody>\n",
       "    <tr>\n",
       "      <th>0</th>\n",
       "      <td>1</td>\n",
       "      <td>2022</td>\n",
       "      <td>18</td>\n",
       "      <td>25024.94</td>\n",
       "      <td>695</td>\n",
       "      <td>36.007108</td>\n",
       "      <td>jeune</td>\n",
       "    </tr>\n",
       "    <tr>\n",
       "      <th>1</th>\n",
       "      <td>1</td>\n",
       "      <td>2022</td>\n",
       "      <td>19</td>\n",
       "      <td>7235.17</td>\n",
       "      <td>191</td>\n",
       "      <td>37.880471</td>\n",
       "      <td>jeune</td>\n",
       "    </tr>\n",
       "    <tr>\n",
       "      <th>2</th>\n",
       "      <td>1</td>\n",
       "      <td>2022</td>\n",
       "      <td>20</td>\n",
       "      <td>6901.84</td>\n",
       "      <td>182</td>\n",
       "      <td>37.922198</td>\n",
       "      <td>jeune</td>\n",
       "    </tr>\n",
       "    <tr>\n",
       "      <th>3</th>\n",
       "      <td>1</td>\n",
       "      <td>2022</td>\n",
       "      <td>21</td>\n",
       "      <td>7047.95</td>\n",
       "      <td>177</td>\n",
       "      <td>39.818927</td>\n",
       "      <td>jeune</td>\n",
       "    </tr>\n",
       "    <tr>\n",
       "      <th>4</th>\n",
       "      <td>1</td>\n",
       "      <td>2022</td>\n",
       "      <td>22</td>\n",
       "      <td>7842.64</td>\n",
       "      <td>226</td>\n",
       "      <td>34.701947</td>\n",
       "      <td>jeune</td>\n",
       "    </tr>\n",
       "  </tbody>\n",
       "</table>\n",
       "</div>"
      ],
      "text/plain": [
       "   month  Year  age        CA  nb_client  panier_mensuel tranche_age\n",
       "0      1  2022   18  25024.94        695       36.007108       jeune\n",
       "1      1  2022   19   7235.17        191       37.880471       jeune\n",
       "2      1  2022   20   6901.84        182       37.922198       jeune\n",
       "3      1  2022   21   7047.95        177       39.818927       jeune\n",
       "4      1  2022   22   7842.64        226       34.701947       jeune"
      ]
     },
     "execution_count": 118,
     "metadata": {},
     "output_type": "execute_result"
    }
   ],
   "source": [
    "# Ajouter une colonne 'tranche_age'\n",
    "liste = []\n",
    "for age in df_panier_moyen['age']:\n",
    "    if age < 30:\n",
    "        liste.append('jeune') \n",
    "    if 30 <= age <50:\n",
    "        liste.append('adultes')\n",
    "    if  age >= 50:\n",
    "        liste.append('agees')\n",
    "        \n",
    "df_panier_moyen['tranche_age'] = liste\n",
    "df_panier_moyen.head()"
   ]
  },
  {
   "cell_type": "code",
   "execution_count": 119,
   "id": "59a78fbf",
   "metadata": {},
   "outputs": [
    {
     "data": {
      "image/png": "[encoded data removed]",
      "text/plain": [
       "<Figure size 432x288 with 1 Axes>"
      ]
     },
     "metadata": {
      "needs_background": "light"
     },
     "output_type": "display_data"
    }
   ],
   "source": [
    "# Les boîtes à moustaches\n",
    "X = \"tranche_age\" # qualitative\n",
    "Y = \"panier_mensuel\" # quantitative\n",
    "modalites = df_panier_moyen['tranche_age'].unique()\n",
    "groupes = []\n",
    "for m in modalites:\n",
    "    groupes.append(df_panier_moyen[df_panier_moyen['tranche_age'] == m][Y])\n",
    "\n",
    "# Propriétés graphiques    \n",
    "medianprops = {'color':\"black\"}\n",
    "meanprops = {'marker':'o', 'markeredgecolor':'black',\n",
    "            'markerfacecolor':'firebrick'}\n",
    "    \n",
    "plt.boxplot(groupes,labels = modalites,  showfliers = False, medianprops = medianprops, \n",
    "            vert = False, patch_artist = True, showmeans=True, meanprops = meanprops)\n",
    "plt.show()"
   ]
  },
  {
   "cell_type": "markdown",
   "id": "ba1c342d",
   "metadata": {},
   "source": [
    "Il semble qu'il y ait des différences distinctes entre les trois groupes. Effectuons donc un test ANOVA pour prouver si c'est le cas.<br>\n",
    "Les boxplots de certains groupes étant plus étendus que d’autres, cela laisse penser que les résidus ne seront probablement pas homogènes. De plus, la présence d’outliers dans les groupes laisse également envisager un défaut de normalité des résidus"
   ]
  },
  {
   "cell_type": "markdown",
   "id": "ea5ce257",
   "metadata": {},
   "source": [
    "### 3- Calcul de rapport de corrélation"
   ]
  },
  {
   "cell_type": "code",
   "execution_count": 120,
   "id": "710396ad",
   "metadata": {},
   "outputs": [
    {
     "data": {
      "text/plain": [
       "0.8476319211064948"
      ]
     },
     "execution_count": 120,
     "metadata": {},
     "output_type": "execute_result"
    }
   ],
   "source": [
    " # Un indicateur de liaison : le rapport de corrélation\n",
    "X = \"tranche_age\" # qualitative\n",
    "Y = \"panier_mensuel\" # quantitative\n",
    "\n",
    "\n",
    "def eta_squared(x,y):\n",
    "    moyenne_y = y.mean()\n",
    "    classes = []\n",
    "    for classe in x.unique():\n",
    "        yi_classe = y[x==classe]\n",
    "        classes.append({'ni': len(yi_classe),\n",
    "                        'moyenne_classe': yi_classe.mean()})\n",
    "    SCT = sum([(yj-moyenne_y)**2 for yj in y])\n",
    "    SCE = sum([c['ni']*(c['moyenne_classe']-moyenne_y)**2 for c in classes])\n",
    "    return SCE/SCT\n",
    "    \n",
    "eta_squared(df_panier_moyen['tranche_age'],df_panier_moyen['panier_mensuel'])"
   ]
  },
  {
   "cell_type": "markdown",
   "id": "ce7e18f0",
   "metadata": {},
   "source": [
    "### 4.ONE-WAY ANOVA "
   ]
  },
  {
   "cell_type": "markdown",
   "id": "fb5523e3",
   "metadata": {},
   "source": [
    "#### 4.1. Définir les hypothèses :\n",
    "hypothèse nulle : il n'y a pas de différence entre les trois groupes (toutes les moyennes sont égales)<br> \n",
    "hypothèse alternative : il y a différence entre au moins deux groupes (toutes les moyennes ne sont pas égales)<br>"
   ]
  },
  {
   "cell_type": "markdown",
   "id": "53f9ebca",
   "metadata": {},
   "source": [
    "#### 4.2. Créez le sous-échantillon :\n",
    "On fait un plan d'expérience complet( ∀i∈{1,…,3}:ni>0) et équilibré (n1=n2=n3=100)  :"
   ]
  },
  {
   "cell_type": "code",
   "execution_count": 121,
   "id": "62810645",
   "metadata": {},
   "outputs": [
    {
     "data": {
      "text/html": [
       "<div>\n",
       "<style scoped>\n",
       "    .dataframe tbody tr th:only-of-type {\n",
       "        vertical-align: middle;\n",
       "    }\n",
       "\n",
       "    .dataframe tbody tr th {\n",
       "        vertical-align: top;\n",
       "    }\n",
       "\n",
       "    .dataframe thead th {\n",
       "        text-align: right;\n",
       "    }\n",
       "</style>\n",
       "<table border=\"1\" class=\"dataframe\">\n",
       "  <thead>\n",
       "    <tr style=\"text-align: right;\">\n",
       "      <th></th>\n",
       "      <th>month</th>\n",
       "      <th>Year</th>\n",
       "      <th>age</th>\n",
       "      <th>CA</th>\n",
       "      <th>nb_client</th>\n",
       "      <th>panier_mensuel</th>\n",
       "      <th>tranche_age</th>\n",
       "    </tr>\n",
       "  </thead>\n",
       "  <tbody>\n",
       "    <tr>\n",
       "      <th>1679</th>\n",
       "      <td>12</td>\n",
       "      <td>2021</td>\n",
       "      <td>25</td>\n",
       "      <td>5794.30</td>\n",
       "      <td>192</td>\n",
       "      <td>30.178646</td>\n",
       "      <td>jeune</td>\n",
       "    </tr>\n",
       "    <tr>\n",
       "      <th>1606</th>\n",
       "      <td>11</td>\n",
       "      <td>2022</td>\n",
       "      <td>28</td>\n",
       "      <td>7839.71</td>\n",
       "      <td>225</td>\n",
       "      <td>34.843156</td>\n",
       "      <td>jeune</td>\n",
       "    </tr>\n",
       "    <tr>\n",
       "      <th>1452</th>\n",
       "      <td>10</td>\n",
       "      <td>2022</td>\n",
       "      <td>26</td>\n",
       "      <td>10554.45</td>\n",
       "      <td>257</td>\n",
       "      <td>41.067899</td>\n",
       "      <td>jeune</td>\n",
       "    </tr>\n",
       "    <tr>\n",
       "      <th>1748</th>\n",
       "      <td>12</td>\n",
       "      <td>2022</td>\n",
       "      <td>18</td>\n",
       "      <td>26430.03</td>\n",
       "      <td>629</td>\n",
       "      <td>42.019126</td>\n",
       "      <td>jeune</td>\n",
       "    </tr>\n",
       "    <tr>\n",
       "      <th>1293</th>\n",
       "      <td>9</td>\n",
       "      <td>2022</td>\n",
       "      <td>19</td>\n",
       "      <td>6601.10</td>\n",
       "      <td>150</td>\n",
       "      <td>44.007333</td>\n",
       "      <td>jeune</td>\n",
       "    </tr>\n",
       "  </tbody>\n",
       "</table>\n",
       "</div>"
      ],
      "text/plain": [
       "      month  Year  age        CA  nb_client  panier_mensuel tranche_age\n",
       "1679     12  2021   25   5794.30        192       30.178646       jeune\n",
       "1606     11  2022   28   7839.71        225       34.843156       jeune\n",
       "1452     10  2022   26  10554.45        257       41.067899       jeune\n",
       "1748     12  2022   18  26430.03        629       42.019126       jeune\n",
       "1293      9  2022   19   6601.10        150       44.007333       jeune"
      ]
     },
     "execution_count": 121,
     "metadata": {},
     "output_type": "execute_result"
    }
   ],
   "source": [
    "subset_jeune = df_panier_moyen[df_panier_moyen['tranche_age'] == 'jeune']\n",
    "subset_jeune = subset_jeune.sample(n=50)\n",
    "subset_jeune.head()"
   ]
  },
  {
   "cell_type": "code",
   "execution_count": 122,
   "id": "2180adee",
   "metadata": {},
   "outputs": [
    {
     "data": {
      "text/html": [
       "<div>\n",
       "<style scoped>\n",
       "    .dataframe tbody tr th:only-of-type {\n",
       "        vertical-align: middle;\n",
       "    }\n",
       "\n",
       "    .dataframe tbody tr th {\n",
       "        vertical-align: top;\n",
       "    }\n",
       "\n",
       "    .dataframe thead th {\n",
       "        text-align: right;\n",
       "    }\n",
       "</style>\n",
       "<table border=\"1\" class=\"dataframe\">\n",
       "  <thead>\n",
       "    <tr style=\"text-align: right;\">\n",
       "      <th></th>\n",
       "      <th>month</th>\n",
       "      <th>Year</th>\n",
       "      <th>age</th>\n",
       "      <th>CA</th>\n",
       "      <th>nb_client</th>\n",
       "      <th>panier_mensuel</th>\n",
       "      <th>tranche_age</th>\n",
       "    </tr>\n",
       "  </thead>\n",
       "  <tbody>\n",
       "    <tr>\n",
       "      <th>1465</th>\n",
       "      <td>10</td>\n",
       "      <td>2022</td>\n",
       "      <td>39</td>\n",
       "      <td>11959.458188</td>\n",
       "      <td>895</td>\n",
       "      <td>13.362523</td>\n",
       "      <td>adultes</td>\n",
       "    </tr>\n",
       "    <tr>\n",
       "      <th>704</th>\n",
       "      <td>5</td>\n",
       "      <td>2022</td>\n",
       "      <td>38</td>\n",
       "      <td>12343.808188</td>\n",
       "      <td>937</td>\n",
       "      <td>13.173755</td>\n",
       "      <td>adultes</td>\n",
       "    </tr>\n",
       "    <tr>\n",
       "      <th>164</th>\n",
       "      <td>2</td>\n",
       "      <td>2022</td>\n",
       "      <td>30</td>\n",
       "      <td>8492.250000</td>\n",
       "      <td>227</td>\n",
       "      <td>37.410793</td>\n",
       "      <td>adultes</td>\n",
       "    </tr>\n",
       "    <tr>\n",
       "      <th>548</th>\n",
       "      <td>4</td>\n",
       "      <td>2022</td>\n",
       "      <td>34</td>\n",
       "      <td>14146.180000</td>\n",
       "      <td>1030</td>\n",
       "      <td>13.734155</td>\n",
       "      <td>adultes</td>\n",
       "    </tr>\n",
       "    <tr>\n",
       "      <th>549</th>\n",
       "      <td>4</td>\n",
       "      <td>2022</td>\n",
       "      <td>35</td>\n",
       "      <td>9518.736376</td>\n",
       "      <td>734</td>\n",
       "      <td>12.968306</td>\n",
       "      <td>adultes</td>\n",
       "    </tr>\n",
       "  </tbody>\n",
       "</table>\n",
       "</div>"
      ],
      "text/plain": [
       "      month  Year  age            CA  nb_client  panier_mensuel tranche_age\n",
       "1465     10  2022   39  11959.458188        895       13.362523     adultes\n",
       "704       5  2022   38  12343.808188        937       13.173755     adultes\n",
       "164       2  2022   30   8492.250000        227       37.410793     adultes\n",
       "548       4  2022   34  14146.180000       1030       13.734155     adultes\n",
       "549       4  2022   35   9518.736376        734       12.968306     adultes"
      ]
     },
     "execution_count": 122,
     "metadata": {},
     "output_type": "execute_result"
    }
   ],
   "source": [
    "subset_adulte = df_panier_moyen[df_panier_moyen['tranche_age'] == 'adultes']\n",
    "subset_adulte = subset_adulte.sample(n=50)\n",
    "subset_adulte.head()"
   ]
  },
  {
   "cell_type": "code",
   "execution_count": 123,
   "id": "ea0b75bf",
   "metadata": {},
   "outputs": [
    {
     "data": {
      "text/html": [
       "<div>\n",
       "<style scoped>\n",
       "    .dataframe tbody tr th:only-of-type {\n",
       "        vertical-align: middle;\n",
       "    }\n",
       "\n",
       "    .dataframe tbody tr th {\n",
       "        vertical-align: top;\n",
       "    }\n",
       "\n",
       "    .dataframe thead th {\n",
       "        text-align: right;\n",
       "    }\n",
       "</style>\n",
       "<table border=\"1\" class=\"dataframe\">\n",
       "  <thead>\n",
       "    <tr style=\"text-align: right;\">\n",
       "      <th></th>\n",
       "      <th>month</th>\n",
       "      <th>Year</th>\n",
       "      <th>age</th>\n",
       "      <th>CA</th>\n",
       "      <th>nb_client</th>\n",
       "      <th>panier_mensuel</th>\n",
       "      <th>tranche_age</th>\n",
       "    </tr>\n",
       "  </thead>\n",
       "  <tbody>\n",
       "    <tr>\n",
       "      <th>756</th>\n",
       "      <td>5</td>\n",
       "      <td>2022</td>\n",
       "      <td>90</td>\n",
       "      <td>115.30</td>\n",
       "      <td>7</td>\n",
       "      <td>16.471429</td>\n",
       "      <td>agees</td>\n",
       "    </tr>\n",
       "    <tr>\n",
       "      <th>648</th>\n",
       "      <td>5</td>\n",
       "      <td>2021</td>\n",
       "      <td>58</td>\n",
       "      <td>5885.60</td>\n",
       "      <td>359</td>\n",
       "      <td>16.394429</td>\n",
       "      <td>agees</td>\n",
       "    </tr>\n",
       "    <tr>\n",
       "      <th>1336</th>\n",
       "      <td>9</td>\n",
       "      <td>2022</td>\n",
       "      <td>62</td>\n",
       "      <td>5137.10</td>\n",
       "      <td>300</td>\n",
       "      <td>17.123667</td>\n",
       "      <td>agees</td>\n",
       "    </tr>\n",
       "    <tr>\n",
       "      <th>1354</th>\n",
       "      <td>9</td>\n",
       "      <td>2022</td>\n",
       "      <td>80</td>\n",
       "      <td>2111.13</td>\n",
       "      <td>122</td>\n",
       "      <td>17.304344</td>\n",
       "      <td>agees</td>\n",
       "    </tr>\n",
       "    <tr>\n",
       "      <th>586</th>\n",
       "      <td>4</td>\n",
       "      <td>2022</td>\n",
       "      <td>72</td>\n",
       "      <td>2308.64</td>\n",
       "      <td>134</td>\n",
       "      <td>17.228657</td>\n",
       "      <td>agees</td>\n",
       "    </tr>\n",
       "  </tbody>\n",
       "</table>\n",
       "</div>"
      ],
      "text/plain": [
       "      month  Year  age       CA  nb_client  panier_mensuel tranche_age\n",
       "756       5  2022   90   115.30          7       16.471429       agees\n",
       "648       5  2021   58  5885.60        359       16.394429       agees\n",
       "1336      9  2022   62  5137.10        300       17.123667       agees\n",
       "1354      9  2022   80  2111.13        122       17.304344       agees\n",
       "586       4  2022   72  2308.64        134       17.228657       agees"
      ]
     },
     "execution_count": 123,
     "metadata": {},
     "output_type": "execute_result"
    }
   ],
   "source": [
    "subset_agee = df_panier_moyen[df_panier_moyen['tranche_age'] == 'agees']\n",
    "subset_agee = subset_agee.sample(n=50)\n",
    "subset_agee.head()"
   ]
  },
  {
   "cell_type": "code",
   "execution_count": 124,
   "id": "1c73dd18",
   "metadata": {},
   "outputs": [
    {
     "data": {
      "text/html": [
       "<div>\n",
       "<style scoped>\n",
       "    .dataframe tbody tr th:only-of-type {\n",
       "        vertical-align: middle;\n",
       "    }\n",
       "\n",
       "    .dataframe tbody tr th {\n",
       "        vertical-align: top;\n",
       "    }\n",
       "\n",
       "    .dataframe thead th {\n",
       "        text-align: right;\n",
       "    }\n",
       "</style>\n",
       "<table border=\"1\" class=\"dataframe\">\n",
       "  <thead>\n",
       "    <tr style=\"text-align: right;\">\n",
       "      <th></th>\n",
       "      <th>month</th>\n",
       "      <th>Year</th>\n",
       "      <th>age</th>\n",
       "      <th>CA</th>\n",
       "      <th>nb_client</th>\n",
       "      <th>panier_mensuel</th>\n",
       "      <th>tranche_age</th>\n",
       "    </tr>\n",
       "  </thead>\n",
       "  <tbody>\n",
       "    <tr>\n",
       "      <th>1679</th>\n",
       "      <td>12</td>\n",
       "      <td>2021</td>\n",
       "      <td>25</td>\n",
       "      <td>5794.30</td>\n",
       "      <td>192</td>\n",
       "      <td>30.178646</td>\n",
       "      <td>jeune</td>\n",
       "    </tr>\n",
       "    <tr>\n",
       "      <th>1606</th>\n",
       "      <td>11</td>\n",
       "      <td>2022</td>\n",
       "      <td>28</td>\n",
       "      <td>7839.71</td>\n",
       "      <td>225</td>\n",
       "      <td>34.843156</td>\n",
       "      <td>jeune</td>\n",
       "    </tr>\n",
       "    <tr>\n",
       "      <th>1452</th>\n",
       "      <td>10</td>\n",
       "      <td>2022</td>\n",
       "      <td>26</td>\n",
       "      <td>10554.45</td>\n",
       "      <td>257</td>\n",
       "      <td>41.067899</td>\n",
       "      <td>jeune</td>\n",
       "    </tr>\n",
       "    <tr>\n",
       "      <th>1748</th>\n",
       "      <td>12</td>\n",
       "      <td>2022</td>\n",
       "      <td>18</td>\n",
       "      <td>26430.03</td>\n",
       "      <td>629</td>\n",
       "      <td>42.019126</td>\n",
       "      <td>jeune</td>\n",
       "    </tr>\n",
       "    <tr>\n",
       "      <th>1293</th>\n",
       "      <td>9</td>\n",
       "      <td>2022</td>\n",
       "      <td>19</td>\n",
       "      <td>6601.10</td>\n",
       "      <td>150</td>\n",
       "      <td>44.007333</td>\n",
       "      <td>jeune</td>\n",
       "    </tr>\n",
       "  </tbody>\n",
       "</table>\n",
       "</div>"
      ],
      "text/plain": [
       "      month  Year  age        CA  nb_client  panier_mensuel tranche_age\n",
       "1679     12  2021   25   5794.30        192       30.178646       jeune\n",
       "1606     11  2022   28   7839.71        225       34.843156       jeune\n",
       "1452     10  2022   26  10554.45        257       41.067899       jeune\n",
       "1748     12  2022   18  26430.03        629       42.019126       jeune\n",
       "1293      9  2022   19   6601.10        150       44.007333       jeune"
      ]
     },
     "execution_count": 124,
     "metadata": {},
     "output_type": "execute_result"
    }
   ],
   "source": [
    "subset_tranche_age = pd.concat([subset_jeune, subset_adulte, subset_agee])\n",
    "subset_tranche_age.head()"
   ]
  },
  {
   "cell_type": "markdown",
   "id": "8254e1b4",
   "metadata": {},
   "source": [
    "#### 4.3.Teste ONE-WAY ANOVA "
   ]
  },
  {
   "cell_type": "code",
   "execution_count": 125,
   "id": "21a13f62",
   "metadata": {},
   "outputs": [
    {
     "data": {
      "text/html": [
       "<div>\n",
       "<style scoped>\n",
       "    .dataframe tbody tr th:only-of-type {\n",
       "        vertical-align: middle;\n",
       "    }\n",
       "\n",
       "    .dataframe tbody tr th {\n",
       "        vertical-align: top;\n",
       "    }\n",
       "\n",
       "    .dataframe thead th {\n",
       "        text-align: right;\n",
       "    }\n",
       "</style>\n",
       "<table border=\"1\" class=\"dataframe\">\n",
       "  <thead>\n",
       "    <tr style=\"text-align: right;\">\n",
       "      <th></th>\n",
       "      <th>sum_sq</th>\n",
       "      <th>df</th>\n",
       "      <th>F</th>\n",
       "      <th>PR(&gt;F)</th>\n",
       "    </tr>\n",
       "  </thead>\n",
       "  <tbody>\n",
       "    <tr>\n",
       "      <th>C(tranche_age)</th>\n",
       "      <td>23690.403500</td>\n",
       "      <td>2.0</td>\n",
       "      <td>538.289509</td>\n",
       "      <td>2.274419e-68</td>\n",
       "    </tr>\n",
       "    <tr>\n",
       "      <th>Residual</th>\n",
       "      <td>3234.773535</td>\n",
       "      <td>147.0</td>\n",
       "      <td>NaN</td>\n",
       "      <td>NaN</td>\n",
       "    </tr>\n",
       "  </tbody>\n",
       "</table>\n",
       "</div>"
      ],
      "text/plain": [
       "                      sum_sq     df           F        PR(>F)\n",
       "C(tranche_age)  23690.403500    2.0  538.289509  2.274419e-68\n",
       "Residual         3234.773535  147.0         NaN           NaN"
      ]
     },
     "execution_count": 125,
     "metadata": {},
     "output_type": "execute_result"
    }
   ],
   "source": [
    "import statsmodels.api as sm\n",
    "from statsmodels.formula.api import ols\n",
    "model = ols('panier_mensuel ~ C(tranche_age)', data = subset_tranche_age).fit()\n",
    "aov_table = sm.stats.anova_lm(model, typ=2)\n",
    "aov_table"
   ]
  },
  {
   "cell_type": "markdown",
   "id": "37ddf660",
   "metadata": {},
   "source": [
    "F = 357.255762 >> 1 la variabilité entre les moyens de groupe est plus grande que la variabilité des observations à l’intérieur des groupes. Il existe une différence statistiquement significative entre les groupes p-value = 3.598603e-57 << 0.05"
   ]
  },
  {
   "cell_type": "markdown",
   "id": "6aa8b896",
   "metadata": {},
   "source": [
    "#### 4.4.Vérification des hypothèses"
   ]
  },
  {
   "cell_type": "markdown",
   "id": "dcfd923c",
   "metadata": {},
   "source": [
    "Les hypothèses doivent être satisfaites pour que les résultats des tests soient considérés comme valides.\n",
    "\n",
    "INDÉPENDANCE<br> \n",
    "Cette hypothèse signifie que tous les groupes sont mutuellement exclusifs, c'est-à-dire qu'un individu ne peut appartenir qu'à un seul groupe. <br> \n",
    "NORMALITÉ<br> \n",
    "L'hypothèse de normalité est testée sur les résidus du modèle lorsqu'il provient d'un cadre d'ANOVA ou de régression. Une méthode pour tester l'hypothèse de normalité est le test de Shapiro-Wilk. Cela peut être complété en utilisant la méthode shapiro() de scipy.stats.<br>\n",
    "HOMOCEDASTICITE<br>\n",
    "Ce terme signifie « égalité des variances des sous-populations ». La variance est une statistique de variabilité et de dispersion, et augmente d'autant plus la variabilité ou la dispersion des scores.\n",
    "L'hypothèse d'homoscédasticité est vérifiée à l'aide du test de Levene ou de Bartlett."
   ]
  },
  {
   "cell_type": "code",
   "execution_count": 126,
   "id": "e84032cd",
   "metadata": {},
   "outputs": [
    {
     "data": {
      "text/plain": [
       "ShapiroResult(statistic=0.7771042585372925, pvalue=7.877648322074729e-14)"
      ]
     },
     "execution_count": 126,
     "metadata": {},
     "output_type": "execute_result"
    }
   ],
   "source": [
    "#hypothèse nulle : La distribution des résidus est normale\n",
    "#hypothèse alternative : les résidus ne sont pas distribués normalement.\n",
    "\n",
    "import scipy.stats as stats\n",
    "\n",
    "stats.shapiro(model.resid)"
   ]
  },
  {
   "cell_type": "code",
   "execution_count": 127,
   "id": "ee45d9d1",
   "metadata": {},
   "outputs": [
    {
     "data": {
      "image/png": "[encoded data removed]",
      "text/plain": [
       "<Figure size 720x720 with 1 Axes>"
      ]
     },
     "metadata": {
      "needs_background": "light"
     },
     "output_type": "display_data"
    }
   ],
   "source": [
    "import matplotlib.pyplot as plt\n",
    "\n",
    "fig = plt.figure(figsize= (10, 10))\n",
    "ax = fig.add_subplot(111)\n",
    "\n",
    "normality_plot, stat = stats.probplot(model.resid, plot= plt, rvalue= True)\n",
    "ax.set_title(\"Probability plot of model residual's\", fontsize= 20)\n",
    "ax.set\n",
    "\n",
    "plt.show()"
   ]
  },
  {
   "cell_type": "code",
   "execution_count": 128,
   "id": "9314aeaa",
   "metadata": {},
   "outputs": [
    {
     "data": {
      "text/plain": [
       "True"
      ]
     },
     "execution_count": 128,
     "metadata": {},
     "output_type": "execute_result"
    }
   ],
   "source": [
    "#Critical values of the normal PPCC for testing if data come from a normal distribution\n",
    ">>> import webbrowser\n",
    ">>> webbrowser.open('https://www.itl.nist.gov/div898/handbook/eda/section3/eda3676.htm')\n",
    "True"
   ]
  },
  {
   "cell_type": "markdown",
   "id": "fa0c42f6",
   "metadata": {},
   "source": [
    " <div class=\"alert alert-block alert-info\">\n",
    "Le coefficient de corrélation du diagramme de probabilité (PPCC) indiquait la non-normalité. Étant donné que la taille de l’échantillon N = 150, le PPCC calculé, = 0.6016, est plus petit que le PPC du tableau, = 0.9909.<br> \n",
    "Le QQplot met en évidence un défaut de normalité, tout comme le test de Shapiro Wilk qui rejette l'hypothèse de normalité (la pvalue est < 0.05).<br> \n",
    "Il est évident d’affirmer que cette hypothèse n'est pas remplie.\n",
    "    \n",
    "</div>"
   ]
  },
  {
   "cell_type": "markdown",
   "id": "02027c6d",
   "metadata": {},
   "source": [
    "### 5. L'ANOVA non paramétrique (test de Kruskal Wallis)"
   ]
  },
  {
   "cell_type": "code",
   "execution_count": 129,
   "id": "c923e4d7",
   "metadata": {},
   "outputs": [
    {
     "data": {
      "text/plain": [
       "KruskalResult(statistic=19.28, pvalue=6.507305474754292e-05)"
      ]
     },
     "execution_count": 129,
     "metadata": {},
     "output_type": "execute_result"
    }
   ],
   "source": [
    "group1 = subset_jeune['panier_mensuel'].sample(8)\n",
    "group2 = subset_adulte['panier_mensuel'].sample(8)\n",
    "group3 = subset_agee['panier_mensuel'].sample(8)\n",
    "#perform Kruskal-Wallis Test \n",
    "stats.kruskal(group1, group2, group3)"
   ]
  },
  {
   "cell_type": "markdown",
   "id": "fdad74d5",
   "metadata": {},
   "source": [
    "La pvalue du test étant inférieure à 0.05, l’hypothèse de l’égalité des moyennes est rejetée. On conclut donc que les moyennes des trois groupes sont globalement différentes. Ainsi les variables 'panier_mensuel' et 'tranche_age' ne sont pas indépendantes"
   ]
  },
  {
   "cell_type": "markdown",
   "id": "899b0585",
   "metadata": {},
   "source": [
    "### <a name=\"C15\">5. Le lien entre l’âge des clients et la fréquence d'achat </a>"
   ]
  },
  {
   "cell_type": "markdown",
   "id": "96e9d869",
   "metadata": {},
   "source": [
    "####  Etape(1): Les données à étudier"
   ]
  },
  {
   "cell_type": "markdown",
   "id": "bc0aa572",
   "metadata": {},
   "source": [
    "La fréquence d'achat correspond au nombre d’achats réalisé par un client (ou une catégorie de client) sur une période donnée. "
   ]
  },
  {
   "cell_type": "code",
   "execution_count": 130,
   "id": "10d4a40e",
   "metadata": {},
   "outputs": [
    {
     "data": {
      "text/html": [
       "<div>\n",
       "<style scoped>\n",
       "    .dataframe tbody tr th:only-of-type {\n",
       "        vertical-align: middle;\n",
       "    }\n",
       "\n",
       "    .dataframe tbody tr th {\n",
       "        vertical-align: top;\n",
       "    }\n",
       "\n",
       "    .dataframe thead th {\n",
       "        text-align: right;\n",
       "    }\n",
       "</style>\n",
       "<table border=\"1\" class=\"dataframe\">\n",
       "  <thead>\n",
       "    <tr style=\"text-align: right;\">\n",
       "      <th></th>\n",
       "      <th>age</th>\n",
       "      <th>count</th>\n",
       "      <th>frequence</th>\n",
       "    </tr>\n",
       "  </thead>\n",
       "  <tbody>\n",
       "    <tr>\n",
       "      <th>0</th>\n",
       "      <td>18</td>\n",
       "      <td>15149</td>\n",
       "      <td>0.022308</td>\n",
       "    </tr>\n",
       "    <tr>\n",
       "      <th>1</th>\n",
       "      <td>19</td>\n",
       "      <td>4371</td>\n",
       "      <td>0.006437</td>\n",
       "    </tr>\n",
       "    <tr>\n",
       "      <th>2</th>\n",
       "      <td>20</td>\n",
       "      <td>4587</td>\n",
       "      <td>0.006755</td>\n",
       "    </tr>\n",
       "    <tr>\n",
       "      <th>3</th>\n",
       "      <td>21</td>\n",
       "      <td>4252</td>\n",
       "      <td>0.006261</td>\n",
       "    </tr>\n",
       "    <tr>\n",
       "      <th>4</th>\n",
       "      <td>22</td>\n",
       "      <td>4415</td>\n",
       "      <td>0.006502</td>\n",
       "    </tr>\n",
       "    <tr>\n",
       "      <th>...</th>\n",
       "      <td>...</td>\n",
       "      <td>...</td>\n",
       "      <td>...</td>\n",
       "    </tr>\n",
       "    <tr>\n",
       "      <th>71</th>\n",
       "      <td>89</td>\n",
       "      <td>327</td>\n",
       "      <td>0.000482</td>\n",
       "    </tr>\n",
       "    <tr>\n",
       "      <th>72</th>\n",
       "      <td>90</td>\n",
       "      <td>311</td>\n",
       "      <td>0.000458</td>\n",
       "    </tr>\n",
       "    <tr>\n",
       "      <th>73</th>\n",
       "      <td>91</td>\n",
       "      <td>170</td>\n",
       "      <td>0.000250</td>\n",
       "    </tr>\n",
       "    <tr>\n",
       "      <th>74</th>\n",
       "      <td>92</td>\n",
       "      <td>226</td>\n",
       "      <td>0.000333</td>\n",
       "    </tr>\n",
       "    <tr>\n",
       "      <th>75</th>\n",
       "      <td>93</td>\n",
       "      <td>201</td>\n",
       "      <td>0.000296</td>\n",
       "    </tr>\n",
       "  </tbody>\n",
       "</table>\n",
       "<p>76 rows × 3 columns</p>\n",
       "</div>"
      ],
      "text/plain": [
       "    age  count  frequence\n",
       "0    18  15149   0.022308\n",
       "1    19   4371   0.006437\n",
       "2    20   4587   0.006755\n",
       "3    21   4252   0.006261\n",
       "4    22   4415   0.006502\n",
       "..  ...    ...        ...\n",
       "71   89    327   0.000482\n",
       "72   90    311   0.000458\n",
       "73   91    170   0.000250\n",
       "74   92    226   0.000333\n",
       "75   93    201   0.000296\n",
       "\n",
       "[76 rows x 3 columns]"
      ]
     },
     "execution_count": 130,
     "metadata": {},
     "output_type": "execute_result"
    }
   ],
   "source": [
    "# Scission des données  age':\n",
    "age_frequence = df_B_to_C .groupby(['age'])\n",
    "\n",
    "# Nombre de transactions par age\n",
    "age_frequence = age_frequence['price'].agg([pd.Series.count])\n",
    "                                                    \n",
    "age_frequence = age_frequence.reset_index()\n",
    "# Calcul de la fréquence d'achat\n",
    "age_frequence['frequence'] = age_frequence['count'] / age_frequence['count'].sum() \n",
    "age_frequence"
   ]
  },
  {
   "cell_type": "code",
   "execution_count": 131,
   "id": "3a39e03c",
   "metadata": {},
   "outputs": [
    {
     "data": {
      "image/png": "[encoded data removed]",
      "text/plain": [
       "<Figure size 432x288 with 1 Axes>"
      ]
     },
     "metadata": {
      "needs_background": "light"
     },
     "output_type": "display_data"
    }
   ],
   "source": [
    "# Le diagramme de dispersion\n",
    "plt.plot(age_frequence[\"age\"],age_frequence[\"frequence\"],'o')\n",
    "plt.xlabel(\"age\")\n",
    "plt.ylabel(\"frequence\")\n",
    "plt.show()"
   ]
  },
  {
   "cell_type": "code",
   "execution_count": 132,
   "id": "4fb69a5e",
   "metadata": {},
   "outputs": [
    {
     "data": {
      "text/plain": [
       "<AxesSubplot:>"
      ]
     },
     "execution_count": 132,
     "metadata": {},
     "output_type": "execute_result"
    },
    {
     "data": {
      "image/png": "[encoded data removed]",
      "text/plain": [
       "<Figure size 432x288 with 1 Axes>"
      ]
     },
     "metadata": {
      "needs_background": "light"
     },
     "output_type": "display_data"
    }
   ],
   "source": [
    "age_frequence[\"frequence\"].hist()"
   ]
  },
  {
   "cell_type": "markdown",
   "id": "2f7c1980",
   "metadata": {},
   "source": [
    "### Etape(2): Test de normalité \n",
    "hypothèse nulle H0: l’échantillon est issu d’une population normalement distribuée.<br>\n",
    "hypothèse nulle H1 l’échantillon n'est pas issu d’une population normalement distribuée.<br>"
   ]
  },
  {
   "cell_type": "code",
   "execution_count": 133,
   "id": "0327dbbf",
   "metadata": {},
   "outputs": [
    {
     "data": {
      "text/plain": [
       "ShapiroResult(statistic=0.8863351345062256, pvalue=0.00017520139226689935)"
      ]
     },
     "execution_count": 133,
     "metadata": {},
     "output_type": "execute_result"
    }
   ],
   "source": [
    "# Créer un sous-échantillon\n",
    "echantillon = age_frequence.sample(50)\n",
    "#perform Shapiro-Wilk test\n",
    "shapiro(echantillon[\"frequence\"])"
   ]
  },
  {
   "cell_type": "markdown",
   "id": "0fcde962",
   "metadata": {},
   "source": [
    "Wobs < W0.05; pvalue << 0.05 on rejette l'hypothèse nulle.\n",
    "\n",
    "La distribution de la variable fréquence n'est pas gaussienne , et la relation entre les variables ne semble pas être affine. On a fait le choix de faire un test de corrélation non paramétrique (test de Spearman). La corrélation de Spearman est étudiée lorsque deux variables statistiques semblent être corrélées sans que la relation entre les deux variables soit de type affine."
   ]
  },
  {
   "cell_type": "markdown",
   "id": "e77a5d05",
   "metadata": {},
   "source": [
    "### Etape(3): Test de corrélation de Spearman "
   ]
  },
  {
   "cell_type": "code",
   "execution_count": 135,
   "id": "d9930cb2",
   "metadata": {},
   "outputs": [
    {
     "name": "stdout",
     "output_type": "stream",
     "text": [
      "Le coefficient de Spearman est: -0.6846206425153794\n"
     ]
    }
   ],
   "source": [
    "from scipy.stats import spearmanr\n",
    "#extract Spearman Rank correlation coefficient\n",
    "coeff = spearmanr(age_frequence['age'], age_frequence['frequence'])[0]\n",
    "print('Le coefficient de Spearman est:', coeff)"
   ]
  },
  {
   "cell_type": "code",
   "execution_count": 136,
   "id": "e6cdb46a",
   "metadata": {},
   "outputs": [
    {
     "name": "stdout",
     "output_type": "stream",
     "text": [
      "La p-valeur est 9.152883867240306e-12\n"
     ]
    }
   ],
   "source": [
    "\n",
    "#extract p-value of Spearman Rank correlation coefficient\n",
    "p_value = spearmanr(age_frequence['age'], age_frequence['frequence'])[1] \n",
    "print('La p-valeur est',p_value)"
   ]
  },
  {
   "cell_type": "markdown",
   "id": "615773f5",
   "metadata": {},
   "source": [
    "<div class=\"alert alert-block alert-info\">\n",
    "La p-valeur est inférieur à 5%. On en déduit que les variables ne sont pas indépendantes.<br> \n",
    "Le coefficient de Spearman permet de mesurer le niveau de corrélation entre les deux variables. Il renvoie une valeur entre -1 et 1. S’il est proche de 1 cela signifie que les variables sont corrélées, proche de 0 que les variables sont décorrélées et proche de -1 qu’elles sont corrélées négativement.<br> \n",
    "Dans notre exemple, le coefficient a une valeur de -0.684 ce qui signifie que les variables sont corrélées négativement.</div>  "
   ]
  },
  {
   "cell_type": "code",
   "execution_count": null,
   "id": "cc4d4c66",
   "metadata": {},
   "outputs": [],
   "source": []
  }
 ],
 "metadata": {
  "kernelspec": {
   "display_name": "Python 3 (ipykernel)",
   "language": "python",
   "name": "python3"
  },
  "language_info": {
   "codemirror_mode": {
    "name": "ipython",
    "version": 3
   },
   "file_extension": ".py",
   "mimetype": "text/x-python",
   "name": "python",
   "nbconvert_exporter": "python",
   "pygments_lexer": "ipython3",
   "version": "3.9.7"
  }
 },
 "nbformat": 4,
 "nbformat_minor": 5
}
